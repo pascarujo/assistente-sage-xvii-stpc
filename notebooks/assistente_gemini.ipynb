{
  "nbformat": 4,
  "nbformat_minor": 0,
  "metadata": {
    "colab": {
      "provenance": [],
      "machine_shape": "hm",
      "gpuType": "A100",
      "mount_file_id": "1JWQ7jb1fYuq4mjZeKj0nhdK_I3h5MpeX",
      "authorship_tag": "ABX9TyMd+baSRHiukzTEl08uKMiS",
      "include_colab_link": true
    },
    "kernelspec": {
      "name": "python3",
      "display_name": "Python 3"
    },
    "language_info": {
      "name": "python"
    },
    "accelerator": "GPU"
  },
  "cells": [
    {
      "cell_type": "markdown",
      "metadata": {
        "id": "view-in-github",
        "colab_type": "text"
      },
      "source": [
        "<a href=\"https://colab.research.google.com/github/pascarujo/assistente-sage-xvii-stpc/blob/main/notebooks/assistente_gemini.ipynb\" target=\"_parent\"><img src=\"https://colab.research.google.com/assets/colab-badge.svg\" alt=\"Open In Colab\"/></a>"
      ]
    },
    {
      "cell_type": "markdown",
      "source": [
        "## Importando as bibliotecas\n",
        "\n",
        "É preciso haver uma variável de ambiente GOOGLE_API_KEY contendo uma chave do Gemini válida."
      ],
      "metadata": {
        "id": "a74rHdyqVeGZ"
      }
    },
    {
      "cell_type": "code",
      "execution_count": null,
      "metadata": {
        "id": "pKU9PwLEFuo-"
      },
      "outputs": [],
      "source": [
        "import google.generativeai as genai\n",
        "from google.generativeai import caching\n",
        "from google.colab import userdata\n",
        "from IPython.display import Markdown\n",
        "from datetime import datetime, timedelta\n",
        "from os import system\n",
        "\n",
        "genai.configure(api_key=userdata.get(\"GOOGLE_API_KEY\"))"
      ]
    },
    {
      "cell_type": "markdown",
      "source": [
        "## Base de conhecimento e prompt de sistema\n",
        "\n",
        "`data_path` deve conter o caminho para a pasta onde estão os arquivos da base de conhecimento que será usada. Como teste rápido, pode-se usar o qa.xlsx do repositório como base de conhecimento, mas é possível colocar quaisquer arquivos como pdf, word, xls e imagens, que serâo usados como referências pelo assistente na geração das respostas.\n",
        "\n",
        "`system_path` deve conter o caminho para o arquivo contendo o prompt do sistema."
      ],
      "metadata": {
        "id": "ohl2zzuDTgg7"
      }
    },
    {
      "cell_type": "code",
      "source": [
        "data_path = 'dados/'\n",
        "system_path = 'system_prompt.txt'"
      ],
      "metadata": {
        "id": "uMeDte7RpQ2Z"
      },
      "execution_count": null,
      "outputs": []
    },
    {
      "cell_type": "code",
      "source": [
        "# Lista todos os arquivos de um diretorio\n",
        "def get_all_file_paths(directory):\n",
        "    doc_paths = []\n",
        "    for root, _, files in os.walk(directory):\n",
        "        for file in files:\n",
        "            file_path = os.path.join(root, file)\n",
        "            doc_paths.append(file_path)\n",
        "    return doc_paths"
      ],
      "metadata": {
        "id": "zgaKZon1qvRH"
      },
      "execution_count": null,
      "outputs": []
    },
    {
      "cell_type": "code",
      "source": [
        "# Carregar o prompt de sistema a partir de um arquivo\n",
        "with open(system_path, 'r') as file:\n",
        "    system_prompt = file.read()"
      ],
      "metadata": {
        "id": "w5LKQYphuGpF"
      },
      "execution_count": null,
      "outputs": []
    },
    {
      "cell_type": "code",
      "source": [
        "# Exemplo de prompt de sistema simplificado.\n",
        "system_prompt = \"\"\"\n",
        "Você é um assistente especializado em auxiliar na configuração do\n",
        "sistema supervisório SAGE (Sistema Aberto de Gerenciamento de Energia).\n",
        "Seu objetivo é auxiliar na criação, edição e remoção de pontos nos arquivos\n",
        "`.dat` da base de dados fonte do SAGE,  concentrado em funções SCADA e nos\n",
        "protocolos ICCP, DNP3 e IEC 61850 (MMS). Para garantir a precisão, pergunte o\n",
        "necessário ao usuário sobre a base de dados e a configuração desejada.\n",
        "Sua resposta deve ser concisa e focada na tarefa, evitando detalhes\n",
        "desnecessários. Não forneça informações ou instruções que possam comprometer\n",
        "a segurança do sistema SAGE ou a integridade do ambiente operacional.\n",
        "Considere que o SAGE roda em ambiente Linux, com diretórios específicos:\n",
        "$SAGE, $BD (base de dados), $LOG (logs), $ARQS (arquivos diversos).\n",
        "A sua área de expertise está exclusivamente na configuração da base de dados\n",
        "e nos protocolos mencionados. Evite responder sobre outros tópicos, como telas\n",
        "ou funcionalidades de análise de redes.\n",
        "\"\"\""
      ],
      "metadata": {
        "id": "kJ4jEQRHUguF"
      },
      "execution_count": null,
      "outputs": []
    },
    {
      "cell_type": "markdown",
      "source": [
        "## Configuração do modelo"
      ],
      "metadata": {
        "id": "P4GETFNIVP5t"
      }
    },
    {
      "cell_type": "code",
      "source": [
        "# Carregar todos os arquivos de data_path\n",
        "doc_paths = get_all_file_paths(data_path)\n",
        "uploaded_files = []\n",
        "\n",
        "for i, path in enumerate(doc_paths):\n",
        "  uploaded_file = genai.upload_file(path=path)\n",
        "  uploaded_files.append(uploaded_file)"
      ],
      "metadata": {
        "id": "oSHhnSs5uv4S"
      },
      "execution_count": null,
      "outputs": []
    },
    {
      "cell_type": "code",
      "source": [
        "# Configurando o modelo e o cache\n",
        "model_name = \"gemini-1.5-flash-001\"\n",
        "\n",
        "cache = caching.CachedContent.create(\n",
        "    model=model_name,\n",
        "    system_instruction=system_prompt,\n",
        "    contents=uploaded_files,\n",
        "    ttl=timedelta(minutes=10)\n",
        ")"
      ],
      "metadata": {
        "id": "dUdwJ4CgvLBG"
      },
      "execution_count": null,
      "outputs": []
    },
    {
      "cell_type": "markdown",
      "source": [
        "## Chat"
      ],
      "metadata": {
        "id": "7c2YLnR2VVh3"
      }
    },
    {
      "cell_type": "code",
      "source": [
        "# criando o chat\n",
        "model = genai.GenerativeModel.from_cached_content(cached_content=cache)\n",
        "chat = model.start_chat()"
      ],
      "metadata": {
        "id": "nkf44XUEwHMI"
      },
      "execution_count": null,
      "outputs": []
    },
    {
      "cell_type": "code",
      "source": [
        "# enviando uma pergunta\n",
        "question = \"\"\"\n",
        "O que é um pds?\n",
        "\"\"\"\n",
        "response = chat.send_message(question)\n",
        "Markdown(response.text)"
      ],
      "metadata": {
        "id": "4kTdO54YweIN"
      },
      "execution_count": null,
      "outputs": []
    },
    {
      "cell_type": "code",
      "source": [
        "response.candidates[0]"
      ],
      "metadata": {
        "id": "1AoBJ4kGxeLZ"
      },
      "execution_count": null,
      "outputs": []
    },
    {
      "cell_type": "markdown",
      "source": [],
      "metadata": {
        "id": "pP5M6OL2JIyj"
      }
    }
  ]
}