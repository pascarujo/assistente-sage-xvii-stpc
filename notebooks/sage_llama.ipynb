{
  "cells": [
    {
      "cell_type": "markdown",
      "metadata": {
        "id": "view-in-github",
        "colab_type": "text"
      },
      "source": [
        "<a href=\"https://colab.research.google.com/github/pascarujo/assistente-sage-xvii-stpc/blob/main/notebooks/sage_llama.ipynb\" target=\"_parent\"><img src=\"https://colab.research.google.com/assets/colab-badge.svg\" alt=\"Open In Colab\"/></a>"
      ]
    },
    {
      "cell_type": "markdown",
      "metadata": {
        "id": "e4727adb-7646-4397-aaf8-f1d8a702b540"
      },
      "source": [
        "# Fine-tuning do Llama para Assistente Sage"
      ],
      "id": "e4727adb-7646-4397-aaf8-f1d8a702b540"
    },
    {
      "cell_type": "markdown",
      "source": [
        "## 1. Instalando as bibliotecas necessárias"
      ],
      "metadata": {
        "id": "lzeB4eGeY41u"
      },
      "id": "lzeB4eGeY41u"
    },
    {
      "cell_type": "code",
      "execution_count": 1,
      "metadata": {
        "id": "yg3aXa0mYp6Q"
      },
      "outputs": [],
      "source": [
        "%%capture\n",
        "!pip install unsloth\n",
        "# Also get the latest nightly Unsloth!\n",
        "!pip uninstall unsloth -y && pip install --upgrade --no-cache-dir \"unsloth[colab-new] @ git+https://github.com/unslothai/unsloth.git\""
      ],
      "id": "yg3aXa0mYp6Q"
    },
    {
      "cell_type": "markdown",
      "source": [
        "## 2. Configuração inicial"
      ],
      "metadata": {
        "id": "LZDuL83cZCxn"
      },
      "id": "LZDuL83cZCxn"
    },
    {
      "cell_type": "code",
      "source": [
        "model_name = \"unsloth/Meta-Llama-3.1-8B\"\n",
        "#max_seq_length = 16384\n",
        "max_seq_length = 2048\n",
        "batch_size = 1\n",
        "epochs = 4\n",
        "learning_rate = 2e-5"
      ],
      "metadata": {
        "id": "6OLHB4b0ZHcj"
      },
      "id": "6OLHB4b0ZHcj",
      "execution_count": 2,
      "outputs": []
    },
    {
      "cell_type": "code",
      "execution_count": null,
      "metadata": {
        "id": "HZrz9QDsYwuB"
      },
      "outputs": [],
      "source": [
        "from unsloth import FastLanguageModel\n",
        "import torch\n",
        "\n",
        "dtype = None # None for auto detection. Float16 for Tesla T4, V100, Bfloat16 for Ampere+\n",
        "load_in_4bit = True # Use 4bit quantization to reduce memory usage. Can be False.\n",
        "\n",
        "model, tokenizer = FastLanguageModel.from_pretrained(\n",
        "    model_name = model_name,\n",
        "    max_seq_length = max_seq_length,\n",
        "    dtype = dtype,\n",
        "    load_in_4bit = load_in_4bit,\n",
        "    # token = \"hf_...\", # use one if using gated models like meta-llama/Llama-2-7b-hf\n",
        ")"
      ],
      "id": "HZrz9QDsYwuB"
    },
    {
      "cell_type": "markdown",
      "metadata": {
        "id": "be378315-c391-4f7f-8db3-b1442387cc62"
      },
      "source": [
        "## 3. Carregando os dados"
      ],
      "id": "be378315-c391-4f7f-8db3-b1442387cc62"
    },
    {
      "cell_type": "markdown",
      "metadata": {
        "id": "MMZf7NqmICAP"
      },
      "source": [
        "#### Carregando os exemplos QA do Hugging Face"
      ],
      "id": "MMZf7NqmICAP"
    },
    {
      "cell_type": "code",
      "execution_count": 4,
      "metadata": {
        "id": "xjTHVcsxIUzc"
      },
      "outputs": [],
      "source": [
        "from transformers import AutoTokenizer, AutoModelForCausalLM, TrainingArguments\n",
        "from datasets import load_dataset\n",
        "import pandas as pd\n",
        "import json"
      ],
      "id": "xjTHVcsxIUzc"
    },
    {
      "cell_type": "code",
      "source": [
        "# Carregar a base de treinamento do Hugging Face\n",
        "data_path = 'pascarujo/sage-qa-training'\n",
        "\n",
        "rawdata = load_dataset(data_path)"
      ],
      "metadata": {
        "id": "kpOFCBvUsNR1",
        "colab": {
          "base_uri": "https://localhost:8080/",
          "height": 113,
          "referenced_widgets": [
            "052ec8ed3cd245f983d5fbec9b5e1225",
            "120b81321cd940a6a5f1341788fa7b5e",
            "db2cdc04937e481bac0a329b45f33416",
            "eaa1a1166a5941a2bb02ef0cbcbbe632",
            "b755ef5ceff8490fbc780bfefa7972eb",
            "8b25079fe86c49e4a23dd5bef97899e1",
            "fa02ee75be3f4d4c9dc4b280f8c097ec",
            "af36302fb22e4792a7c580c160c5bc25",
            "7009587e71c24410a31d9712624fa393",
            "aefbcfc127944dfba1330dbc6c9fddaf",
            "216779ef343546a4b8e1fa70f01b6cc0",
            "45c44e1b28064bdd91af52d69fe5194d",
            "9baf4d0811c840138a87d67dfbeb8298",
            "8683bd451c8e47c2a6c0601bf9f864fa",
            "09f60661240448edafc9b1f1a4dd9f91",
            "7c8a7067f0a84e15a54c7eaefe0fc5e7",
            "47b235a712bc480d95c4f9b535c1db5e",
            "f00de627ac3a4b59b5e61627949dec69",
            "b160b049c0514a71ba09c82a609193bd",
            "26e587ae8f9340eab762ea9f9201daa3",
            "ea1f13e29157459e8679f212c067b6ec",
            "32d87731660946769a2cd3052b193d14",
            "e3bb563ebff14d1ba497b2d3ed8d88b2",
            "54329f95eaee4f019afe487f5ee1cefb",
            "e26355f8442747b2879ed1f21e473ba3",
            "02719b29ecb8430fb2e69506eebe20f2",
            "975b207f5fac4219a33620ea68e619ad",
            "e6614fb213434de6ab9f01332a0c16e4",
            "f92f83fcfed1435db7e3397fac18ca09",
            "c2087cbb8d134aeea35e55f6aeff800f",
            "693f449edee84829aeed64277168a61c",
            "77ff07518a3344cb832a49b9f8c3a723",
            "91b0cd85c47043d19ca1237db731ca2e"
          ]
        },
        "outputId": "ae14bfbf-5b2c-4e86-f426-8a6d3f3121ed"
      },
      "id": "kpOFCBvUsNR1",
      "execution_count": 5,
      "outputs": [
        {
          "output_type": "display_data",
          "data": {
            "text/plain": [
              "README.md:   0%|          | 0.00/28.0 [00:00<?, ?B/s]"
            ],
            "application/vnd.jupyter.widget-view+json": {
              "version_major": 2,
              "version_minor": 0,
              "model_id": "052ec8ed3cd245f983d5fbec9b5e1225"
            }
          },
          "metadata": {}
        },
        {
          "output_type": "display_data",
          "data": {
            "text/plain": [
              "qa_training_data.jsonl:   0%|          | 0.00/1.09M [00:00<?, ?B/s]"
            ],
            "application/vnd.jupyter.widget-view+json": {
              "version_major": 2,
              "version_minor": 0,
              "model_id": "45c44e1b28064bdd91af52d69fe5194d"
            }
          },
          "metadata": {}
        },
        {
          "output_type": "display_data",
          "data": {
            "text/plain": [
              "Generating train split:   0%|          | 0/1740 [00:00<?, ? examples/s]"
            ],
            "application/vnd.jupyter.widget-view+json": {
              "version_major": 2,
              "version_minor": 0,
              "model_id": "e3bb563ebff14d1ba497b2d3ed8d88b2"
            }
          },
          "metadata": {}
        }
      ]
    },
    {
      "cell_type": "code",
      "source": [
        "rawdata['train']['messages'][0]"
      ],
      "metadata": {
        "colab": {
          "base_uri": "https://localhost:8080/"
        },
        "id": "KSHyYexNd887",
        "outputId": "f44345c4-1099-4533-a44e-f9dddd367cb7"
      },
      "id": "KSHyYexNd887",
      "execution_count": null,
      "outputs": [
        {
          "output_type": "execute_result",
          "data": {
            "text/plain": [
              "[{'role': 'system',\n",
              "  'content': 'Você é um assistente especialista no sistema SAGE do Cepel.'},\n",
              " {'role': 'user', 'content': 'Qual a estrutura de um PDS?'},\n",
              " {'role': 'assistant',\n",
              "  'content': 'Estrutura de um PDS (Ponto Digital) no SAGE\\nUm PDS, ou Ponto Digital, no sistema SAGE é uma entidade que representa um ponto de medição digital lógico. Ele armazena informações sobre o estado de um dispositivo digital, como um disjuntor ou chave seccionadora, que pode estar em um dos dois estados: aberto (0) ou fechado (1).\\nA estrutura de um PDS é definida por diversos atributos, que podem ser divididos em:\\n\\n1. Identificação:\\nID: Identificador único do PDS.\\nNOME: Descrição do ponto por extenso.\\nNOPO: Número operacional do equipamento.\\nIDOPER: Identificador específico para o operador.\\nIDICCP: Identificador para Servidor ICCP.\\n\\n2. Configuração:\\nTIPO: Tipo do equipamento onde se localiza a medida digital (ex: DISJ, CHAVE).\\nTPEQP: Tipo do equipamento associado ao ponto digital (ex: CNC, LTR).\\nEST: Estação a que pertence o ponto digital.\\nTAC: TAC (Terminal de Aquisição e Controle) à qual o ponto pertence.\\nLSCINF: Identificador da ligação SCADA no nível hierárquico inferior de comunicação.\\nTCL: Identificador do tipo de cálculo usado para gerar este ponto (se for um ponto calculado).\\nTPFIL: Tipo do filtro usado pela LSC associada a este ponto (se houver).\\n\\n3. Comportamento:\\nCDINIC: Condição inicial do ponto (ex: NORMAL, MANUAL, NAOSUP).\\nSTINI: Estado inicial do ponto (Aberto ou Fechado).\\nSTNOR: Estado de referência do ponto (Aberto ou Fechado).\\nINVRT: Indicador de inversão de estado (SIM ou NAO).\\nALINT: Indica se deve ser gerado alarme quando o ponto muda de estado (SIM ou NAO).\\nALRIN: Indica se o alarme do ponto deve ser inibido (SIM ou NAO).\\nALRP: Indica se o alarme persistente está habilitado (SIM ou NAO).\\nPRIOALR: Ordem de prioridade para o alarme.\\nPCONDALR: Ponto digital de referência para inibição/habilitação automática de alarmes.\\nSOEIN: Indica se o SOE (Sequence of Events) está inibido (SIM ou NAO).\\nSELSD: Indica se o valor do ponto deve ser o aquisitado ou o considerado quando distribuído.\\nSINCR_MAN: Indica se o sincronismo de entradas manuais está autorizado (SIM ou NAO).\\nHISTSLC: Indica se o ponto é selecionado para a base histórica (SIM ou NAO).\\nHISTSLC_SOE: Indica se o ponto de SOE é selecionado para a base histórica (SIM ou NAO).\\nUAPL: Indica se o ponto é selecionado para compor planilhas de histórico simplificado (SIM ou NAO).\\nTMP_ANORM: Tempo máximo para permanência no estado anormal antes da emissão de alarme.\\n\\n4. Apresentação:\\nTELA: Identificador da tela associada ao ponto digital.\\n\\n5. Informação adicional:\\nCMT: Comentário sobre o ponto digital.\\nMRID: Atributo de uso exclusivo do SAGE.\\nÉ importante salientar que nem todos os atributos são obrigatórios. O preenchimento depende da função específica do PDS e da configuração do sistema SAGE.\\nEspero que esta informação seja útil!'}]"
            ]
          },
          "metadata": {},
          "execution_count": 22
        }
      ]
    },
    {
      "cell_type": "markdown",
      "source": [
        "### Formatação dos dados em instruction, input, output"
      ],
      "metadata": {
        "id": "lfHw3wyLfCe9"
      },
      "id": "lfHw3wyLfCe9"
    },
    {
      "cell_type": "code",
      "source": [
        "instructions = []\n",
        "responses = []\n",
        "\n",
        "# Percorrer os dados e acessar a lista dentro de 'messages'\n",
        "for entry in rawdata['train']:\n",
        "    messages = entry['messages']\n",
        "    current_instruction = \"\"\n",
        "\n",
        "    # Iterar sobre cada mensagem dentro de 'messages'\n",
        "    for message in messages:\n",
        "        if message['role'] == 'user':\n",
        "            current_instruction = message['content']\n",
        "        elif message['role'] == 'assistant' and current_instruction:\n",
        "            instructions.append(current_instruction)\n",
        "            responses.append(message['content'])\n",
        "            current_instruction = \"\"\n",
        "\n",
        "\n",
        "# Criar um DataFrame com as instruções e respostas\n",
        "df = pd.DataFrame({\n",
        "    \"instruction\": instructions,\n",
        "    \"input\": [\"\" for _ in instructions],  # Como não há input adicional, manter vazio\n",
        "    \"output\": responses\n",
        "})\n",
        "\n",
        "print(df.head())\n",
        "\n",
        "# Transformar o DataFrame em um Dataset do Hugging Face\n",
        "dataset = Dataset.from_pandas(df)\n",
        "\n",
        "print(dataset)"
      ],
      "metadata": {
        "colab": {
          "base_uri": "https://localhost:8080/"
        },
        "id": "TnsmKymavIrO",
        "outputId": "63365f54-6818-4e07-f4ea-d3ec7749e6b7"
      },
      "id": "TnsmKymavIrO",
      "execution_count": 6,
      "outputs": [
        {
          "output_type": "stream",
          "name": "stdout",
          "text": [
            "                                         instruction input  \\\n",
            "0                        Qual a estrutura de um PDS?         \n",
            "1         Qual a relação de um ponto PDS com um PDF?         \n",
            "2  Faça um roteiro passo a passo de como incluir ...         \n",
            "3  Faça um roteiro passo a passo de como incluir ...         \n",
            "4  Qual a função do atributo KCONV na tabela PDF ...         \n",
            "\n",
            "                                              output  \n",
            "0  Estrutura de um PDS (Ponto Digital) no SAGE\\nU...  \n",
            "1  Um ponto PDS (Ponto Digital Lógico) e um PDF (...  \n",
            "2  Roteiro passo a passo para incluir um novo CNF...  \n",
            "3  Alterações na base de dados para incluir uma n...  \n",
            "4  O atributo KCONV na tabela PDF define a conver...  \n",
            "Dataset({\n",
            "    features: ['instruction', 'input', 'output'],\n",
            "    num_rows: 1740\n",
            "})\n"
          ]
        }
      ]
    },
    {
      "cell_type": "code",
      "source": [
        "# Salvar o dataset em disco para uso posterior (opcional)\n",
        "dataset.save_to_disk('dataset')"
      ],
      "metadata": {
        "colab": {
          "base_uri": "https://localhost:8080/",
          "height": 49,
          "referenced_widgets": [
            "dd00d1b59b6d4d1eb1cbaae20301f964",
            "711629dc15354686ad13a7508ca253ba",
            "951a90efc3894137abb835c325dd770b",
            "7047904d3d704fba92401ae86aadfd74",
            "9c59032c357a4e67a048c114b38c43e9",
            "9b4acb61e9304566836460f06dbc9b2e",
            "7afb1b6e73514961a7f42f1a53eb9539",
            "518581b82b9443d88e6af3604adc393b",
            "4b70b04fffaf453f89aeeb00df9fabfe",
            "7125d210023346a4b755269a3257b302",
            "0360c86ed54e4c1eb0041df8202b59a4"
          ]
        },
        "id": "Oo1RxIlOsdtK",
        "outputId": "0e537062-afb1-4412-fc38-ad672da4f387"
      },
      "id": "Oo1RxIlOsdtK",
      "execution_count": null,
      "outputs": [
        {
          "output_type": "display_data",
          "data": {
            "text/plain": [
              "Saving the dataset (0/1 shards):   0%|          | 0/1740 [00:00<?, ? examples/s]"
            ],
            "application/vnd.jupyter.widget-view+json": {
              "version_major": 2,
              "version_minor": 0,
              "model_id": "dd00d1b59b6d4d1eb1cbaae20301f964"
            }
          },
          "metadata": {}
        }
      ]
    },
    {
      "cell_type": "code",
      "source": [
        "dataset = Dataset.load_from_disk('dataset')"
      ],
      "metadata": {
        "id": "NldTMSknJ5Bv"
      },
      "id": "NldTMSknJ5Bv",
      "execution_count": null,
      "outputs": []
    },
    {
      "cell_type": "code",
      "source": [],
      "metadata": {
        "id": "Mj88sn9_J-BR"
      },
      "id": "Mj88sn9_J-BR",
      "execution_count": null,
      "outputs": []
    },
    {
      "cell_type": "code",
      "source": [
        "def formatting_prompts_func(examples):\n",
        "    alpaca_prompt = \"\"\"Abaixo há uma instrução que descreve uma tarefa,\n",
        "    acompanhada por uma entrada que fornece contexto adicional.\n",
        "    Escreva uma resposta que complete de forma apropriada a solicitação.\n",
        "\n",
        "### Instrução:\n",
        "{}\n",
        "\n",
        "### Entrada:\n",
        "{}\n",
        "\n",
        "### Resposta:\n",
        "{}\"\"\"\n",
        "\n",
        "    instructions = examples[\"instruction\"]\n",
        "    inputs = examples[\"input\"]\n",
        "    outputs = examples[\"output\"]\n",
        "    texts = []\n",
        "\n",
        "    for instruction, input_text, output in zip(instructions, inputs, outputs):\n",
        "        text = alpaca_prompt.format(instruction, input_text, output) + \" EOS_TOKEN\"\n",
        "        texts.append(text)\n",
        "\n",
        "    return {\"text\": texts}\n",
        "\n",
        "# Aplicar a função de formatação\n",
        "dataset = dataset.map(formatting_prompts_func, batched=True)\n",
        "\n",
        "# Verificar os dados formatados\n",
        "print(dataset[0])"
      ],
      "metadata": {
        "colab": {
          "base_uri": "https://localhost:8080/",
          "height": 86,
          "referenced_widgets": [
            "e70839fea0fa459aa0ca11c455fafe43",
            "74c5dc34c1bf4cddae8738ef17772e57",
            "0e87d81c7c6a4b95bcbc80383912caea",
            "f81181eec0f24039a6a68bcd1ccc0652",
            "418518eec70440849c571c8032acd2ef",
            "3abdd259470042a8b4ff8288bb6127fd",
            "612a35fcf1ab4aadade7a871858d92e8",
            "0eb3ee44b65b42ac9b80e23c6b84febe",
            "63824ed5ead945da839d2e04ee399b93",
            "0859ef9365b84145836fa6a094937998",
            "2f12933ce12c4990946ba0f779d128ba"
          ]
        },
        "id": "Fbt7LaqQshnn",
        "outputId": "848903ec-cd64-4391-d634-850bd6cff6f9"
      },
      "id": "Fbt7LaqQshnn",
      "execution_count": 7,
      "outputs": [
        {
          "output_type": "display_data",
          "data": {
            "text/plain": [
              "Map:   0%|          | 0/1740 [00:00<?, ? examples/s]"
            ],
            "application/vnd.jupyter.widget-view+json": {
              "version_major": 2,
              "version_minor": 0,
              "model_id": "e70839fea0fa459aa0ca11c455fafe43"
            }
          },
          "metadata": {}
        },
        {
          "output_type": "stream",
          "name": "stdout",
          "text": [
            "{'instruction': 'Qual a estrutura de um PDS?', 'input': '', 'output': 'Estrutura de um PDS (Ponto Digital) no SAGE\\nUm PDS, ou Ponto Digital, no sistema SAGE é uma entidade que representa um ponto de medição digital lógico. Ele armazena informações sobre o estado de um dispositivo digital, como um disjuntor ou chave seccionadora, que pode estar em um dos dois estados: aberto (0) ou fechado (1).\\nA estrutura de um PDS é definida por diversos atributos, que podem ser divididos em:\\n\\n1. Identificação:\\nID: Identificador único do PDS.\\nNOME: Descrição do ponto por extenso.\\nNOPO: Número operacional do equipamento.\\nIDOPER: Identificador específico para o operador.\\nIDICCP: Identificador para Servidor ICCP.\\n\\n2. Configuração:\\nTIPO: Tipo do equipamento onde se localiza a medida digital (ex: DISJ, CHAVE).\\nTPEQP: Tipo do equipamento associado ao ponto digital (ex: CNC, LTR).\\nEST: Estação a que pertence o ponto digital.\\nTAC: TAC (Terminal de Aquisição e Controle) à qual o ponto pertence.\\nLSCINF: Identificador da ligação SCADA no nível hierárquico inferior de comunicação.\\nTCL: Identificador do tipo de cálculo usado para gerar este ponto (se for um ponto calculado).\\nTPFIL: Tipo do filtro usado pela LSC associada a este ponto (se houver).\\n\\n3. Comportamento:\\nCDINIC: Condição inicial do ponto (ex: NORMAL, MANUAL, NAOSUP).\\nSTINI: Estado inicial do ponto (Aberto ou Fechado).\\nSTNOR: Estado de referência do ponto (Aberto ou Fechado).\\nINVRT: Indicador de inversão de estado (SIM ou NAO).\\nALINT: Indica se deve ser gerado alarme quando o ponto muda de estado (SIM ou NAO).\\nALRIN: Indica se o alarme do ponto deve ser inibido (SIM ou NAO).\\nALRP: Indica se o alarme persistente está habilitado (SIM ou NAO).\\nPRIOALR: Ordem de prioridade para o alarme.\\nPCONDALR: Ponto digital de referência para inibição/habilitação automática de alarmes.\\nSOEIN: Indica se o SOE (Sequence of Events) está inibido (SIM ou NAO).\\nSELSD: Indica se o valor do ponto deve ser o aquisitado ou o considerado quando distribuído.\\nSINCR_MAN: Indica se o sincronismo de entradas manuais está autorizado (SIM ou NAO).\\nHISTSLC: Indica se o ponto é selecionado para a base histórica (SIM ou NAO).\\nHISTSLC_SOE: Indica se o ponto de SOE é selecionado para a base histórica (SIM ou NAO).\\nUAPL: Indica se o ponto é selecionado para compor planilhas de histórico simplificado (SIM ou NAO).\\nTMP_ANORM: Tempo máximo para permanência no estado anormal antes da emissão de alarme.\\n\\n4. Apresentação:\\nTELA: Identificador da tela associada ao ponto digital.\\n\\n5. Informação adicional:\\nCMT: Comentário sobre o ponto digital.\\nMRID: Atributo de uso exclusivo do SAGE.\\nÉ importante salientar que nem todos os atributos são obrigatórios. O preenchimento depende da função específica do PDS e da configuração do sistema SAGE.\\nEspero que esta informação seja útil!', 'text': 'Abaixo há uma instrução que descreve uma tarefa,\\n    acompanhada por uma entrada que fornece contexto adicional.\\n    Escreva uma resposta que complete de forma apropriada a solicitação.\\n\\n### Instrução:\\nQual a estrutura de um PDS?\\n\\n### Entrada:\\n\\n\\n### Resposta:\\nEstrutura de um PDS (Ponto Digital) no SAGE\\nUm PDS, ou Ponto Digital, no sistema SAGE é uma entidade que representa um ponto de medição digital lógico. Ele armazena informações sobre o estado de um dispositivo digital, como um disjuntor ou chave seccionadora, que pode estar em um dos dois estados: aberto (0) ou fechado (1).\\nA estrutura de um PDS é definida por diversos atributos, que podem ser divididos em:\\n\\n1. Identificação:\\nID: Identificador único do PDS.\\nNOME: Descrição do ponto por extenso.\\nNOPO: Número operacional do equipamento.\\nIDOPER: Identificador específico para o operador.\\nIDICCP: Identificador para Servidor ICCP.\\n\\n2. Configuração:\\nTIPO: Tipo do equipamento onde se localiza a medida digital (ex: DISJ, CHAVE).\\nTPEQP: Tipo do equipamento associado ao ponto digital (ex: CNC, LTR).\\nEST: Estação a que pertence o ponto digital.\\nTAC: TAC (Terminal de Aquisição e Controle) à qual o ponto pertence.\\nLSCINF: Identificador da ligação SCADA no nível hierárquico inferior de comunicação.\\nTCL: Identificador do tipo de cálculo usado para gerar este ponto (se for um ponto calculado).\\nTPFIL: Tipo do filtro usado pela LSC associada a este ponto (se houver).\\n\\n3. Comportamento:\\nCDINIC: Condição inicial do ponto (ex: NORMAL, MANUAL, NAOSUP).\\nSTINI: Estado inicial do ponto (Aberto ou Fechado).\\nSTNOR: Estado de referência do ponto (Aberto ou Fechado).\\nINVRT: Indicador de inversão de estado (SIM ou NAO).\\nALINT: Indica se deve ser gerado alarme quando o ponto muda de estado (SIM ou NAO).\\nALRIN: Indica se o alarme do ponto deve ser inibido (SIM ou NAO).\\nALRP: Indica se o alarme persistente está habilitado (SIM ou NAO).\\nPRIOALR: Ordem de prioridade para o alarme.\\nPCONDALR: Ponto digital de referência para inibição/habilitação automática de alarmes.\\nSOEIN: Indica se o SOE (Sequence of Events) está inibido (SIM ou NAO).\\nSELSD: Indica se o valor do ponto deve ser o aquisitado ou o considerado quando distribuído.\\nSINCR_MAN: Indica se o sincronismo de entradas manuais está autorizado (SIM ou NAO).\\nHISTSLC: Indica se o ponto é selecionado para a base histórica (SIM ou NAO).\\nHISTSLC_SOE: Indica se o ponto de SOE é selecionado para a base histórica (SIM ou NAO).\\nUAPL: Indica se o ponto é selecionado para compor planilhas de histórico simplificado (SIM ou NAO).\\nTMP_ANORM: Tempo máximo para permanência no estado anormal antes da emissão de alarme.\\n\\n4. Apresentação:\\nTELA: Identificador da tela associada ao ponto digital.\\n\\n5. Informação adicional:\\nCMT: Comentário sobre o ponto digital.\\nMRID: Atributo de uso exclusivo do SAGE.\\nÉ importante salientar que nem todos os atributos são obrigatórios. O preenchimento depende da função específica do PDS e da configuração do sistema SAGE.\\nEspero que esta informação seja útil! EOS_TOKEN'}\n"
          ]
        }
      ]
    },
    {
      "cell_type": "code",
      "source": [
        "# Salvar o dataset formatado\n",
        "dataset.save_to_disk('formatted_dataset')"
      ],
      "metadata": {
        "colab": {
          "base_uri": "https://localhost:8080/",
          "height": 49,
          "referenced_widgets": [
            "11413c2980f143ea9d57fdcd612cca11",
            "744fcb077e6844be8b1879935dbbb8c7",
            "afcaf1c6abd540089737c6cb3b4471e2",
            "c69cf282114349d9ad639be3e10231b8",
            "78070b16d36341a6937f35d2e84c2406",
            "8cd7cb528c0749edb0ff2680ec567505",
            "3213e579b8f74ec1a9deb865566dfe0d",
            "381fcb290868485da7c3b0a4348fb7e9",
            "46f18f12f2464109b75ae2d17e2202fa",
            "bb5016f144da4ea380bd6c99fa966073",
            "6513f2137b3848d7ba014b9aadac0a73"
          ]
        },
        "id": "GgySJ6tpskyV",
        "outputId": "b8f6f6ff-5e6e-486b-94dd-12325a2441f3"
      },
      "id": "GgySJ6tpskyV",
      "execution_count": null,
      "outputs": [
        {
          "output_type": "display_data",
          "data": {
            "text/plain": [
              "Saving the dataset (0/1 shards):   0%|          | 0/1740 [00:00<?, ? examples/s]"
            ],
            "application/vnd.jupyter.widget-view+json": {
              "version_major": 2,
              "version_minor": 0,
              "model_id": "11413c2980f143ea9d57fdcd612cca11"
            }
          },
          "metadata": {}
        }
      ]
    },
    {
      "cell_type": "code",
      "source": [
        "# Dividir os dados em um conjunto de treinamento e avaliação (opcional)\n",
        "\n",
        "datasets = dataset.train_test_split(test_size=0.1)\n",
        "train_dataset = datasets['train']\n",
        "eval_dataset = datasets['test']"
      ],
      "metadata": {
        "id": "eZmA_KaF5Sw-"
      },
      "id": "eZmA_KaF5Sw-",
      "execution_count": 8,
      "outputs": []
    },
    {
      "cell_type": "markdown",
      "metadata": {
        "id": "9eb4c7fe-c05a-479a-9208-84d86d22c0bf"
      },
      "source": [
        "## 4. Confirgurando o LoRA e o treinamento"
      ],
      "id": "9eb4c7fe-c05a-479a-9208-84d86d22c0bf"
    },
    {
      "cell_type": "code",
      "execution_count": 9,
      "metadata": {
        "id": "QkFUBWwxfzCv",
        "colab": {
          "base_uri": "https://localhost:8080/"
        },
        "outputId": "cd502c7a-744d-4051-b32b-4d0e51563dcf"
      },
      "outputs": [
        {
          "output_type": "stream",
          "name": "stderr",
          "text": [
            "Unsloth 2024.9.post4 patched 32 layers with 32 QKV layers, 32 O layers and 32 MLP layers.\n"
          ]
        }
      ],
      "source": [
        "model = FastLanguageModel.get_peft_model(\n",
        "    model,\n",
        "    r = 16, # Choose any number > 0 ! Suggested 8, 16, 32, 64, 128\n",
        "    target_modules = [\"q_proj\", \"k_proj\", \"v_proj\", \"o_proj\",\n",
        "                      \"gate_proj\", \"up_proj\", \"down_proj\",],\n",
        "    lora_alpha = 128,\n",
        "    lora_dropout = 0, # Supports any, but = 0 is optimized\n",
        "    bias = \"none\",    # Supports any, but = \"none\" is optimized\n",
        "    use_rslora = True,\n",
        "    use_gradient_checkpointing = 'unsloth',\n",
        "    random_state = 0,\n",
        ")"
      ],
      "id": "QkFUBWwxfzCv"
    },
    {
      "cell_type": "code",
      "execution_count": 10,
      "metadata": {
        "id": "tnhAq_kK4VAY"
      },
      "outputs": [],
      "source": [
        "project = \"Meta-Llama-3.1-8B-bnb-4bit-01\"\n",
        "run_name = \"run_1_SS\" # Defining a separate run name in case you want to start another one resuming from a checkpoint\n",
        "project_and_run_name = project + \"-\" + run_name\n",
        "output_dir = \"./\" + project_and_run_name"
      ],
      "id": "tnhAq_kK4VAY"
    },
    {
      "cell_type": "markdown",
      "metadata": {
        "id": "iQCx0IC6Qo19"
      },
      "source": [
        "## 5. Treinamento"
      ],
      "id": "iQCx0IC6Qo19"
    },
    {
      "cell_type": "code",
      "execution_count": 12,
      "metadata": {
        "id": "IpcbWcAZgaq9",
        "colab": {
          "base_uri": "https://localhost:8080/",
          "height": 49,
          "referenced_widgets": [
            "49fa057c2f324b7fa7e3f2a0d57b5af2",
            "c5157394f30b4156803a1e8b00ada89c",
            "56c5688433444bc0b1a5c11fd1807578",
            "dce23c84885442699941c576faa52b06",
            "afe0afe834b0482c8c91a04aa691edef",
            "a1c382d9c82a4bffbee1bf5719eb7537",
            "a2491514def64adca8dbfeca49d9e17d",
            "df11bf34f71147029f8552a15bd92441",
            "d2435beafc2c4841baf8d982549284fe",
            "98d72731695044239e3eeab784d9daf1",
            "57b9a2d9b20944d7b09ff471519bc70f"
          ]
        },
        "outputId": "6cc335af-4526-42af-e885-f05370a2aa2a"
      },
      "outputs": [
        {
          "output_type": "display_data",
          "data": {
            "text/plain": [
              "Generating train split: 0 examples [00:00, ? examples/s]"
            ],
            "application/vnd.jupyter.widget-view+json": {
              "version_major": 2,
              "version_minor": 0,
              "model_id": "49fa057c2f324b7fa7e3f2a0d57b5af2"
            }
          },
          "metadata": {}
        }
      ],
      "source": [
        "from trl import SFTTrainer\n",
        "from transformers import TrainingArguments\n",
        "from datetime import datetime\n",
        "from unsloth import is_bfloat16_supported\n",
        "\n",
        "wandbname = project + \"-\" + run_name\n",
        "\n",
        "trainer = SFTTrainer(\n",
        "    model = model,\n",
        "    #callbacks=[upload_checkpoint_callback],\n",
        "    train_dataset = dataset,\n",
        "    #train_dataset = train_dataset,\n",
        "    #eval_dataset = eval_dataset,\n",
        "    tokenizer = tokenizer,\n",
        "    max_seq_length = max_seq_length,\n",
        "    packing = True,\n",
        "    dataset_text_field=\"text\",\n",
        "    args = TrainingArguments(\n",
        "        #per_device_eval_batch_size = 1,\n",
        "        per_device_train_batch_size = batch_size,\n",
        "        gradient_accumulation_steps = 2,\n",
        "        warmup_ratio = 0,\n",
        "        max_grad_norm = 1.0,\n",
        "        num_train_epochs = epochs,\n",
        "        learning_rate = learning_rate,\n",
        "        fp16 = not is_bfloat16_supported(),\n",
        "        bf16 = is_bfloat16_supported(),\n",
        "        logging_steps = 10,\n",
        "        #evaluation_strategy=\"epoch\",\n",
        "        optim = \"adamw_8bit\",\n",
        "        weight_decay = 0.1,\n",
        "        lr_scheduler_type = \"cosine\",\n",
        "        save_strategy=\"epoch\",\n",
        "        seed = 3407,\n",
        "        output_dir = output_dir,\n",
        "        run_name=f\"sagista-{datetime.now().strftime('%Y-%m-%d-%H-%M')}\"\n",
        "    ),\n",
        ")\n",
        "\n"
      ],
      "id": "IpcbWcAZgaq9"
    },
    {
      "cell_type": "markdown",
      "source": [
        "### Treinar modelo"
      ],
      "metadata": {
        "id": "KVE69E45L8wD"
      },
      "id": "KVE69E45L8wD"
    },
    {
      "cell_type": "code",
      "source": [
        "trainer.train()\n",
        "\n",
        "# If resuming from a checkpoint:\n",
        "# trainer.train(resume_from_checkpoint=\"/content/latest-checkpoint/\")"
      ],
      "metadata": {
        "id": "IxJNyDZtzi6C"
      },
      "id": "IxJNyDZtzi6C",
      "execution_count": null,
      "outputs": []
    },
    {
      "cell_type": "markdown",
      "metadata": {
        "id": "24beb8e2-1ea7-4c30-a8cc-37ff6b6e62b0"
      },
      "source": [
        "## 6. Testando o modelo treinado\n"
      ],
      "id": "24beb8e2-1ea7-4c30-a8cc-37ff6b6e62b0"
    },
    {
      "cell_type": "code",
      "execution_count": null,
      "metadata": {
        "id": "D7bV2cWUZXhV"
      },
      "outputs": [],
      "source": [
        "from transformers import TextIteratorStreamer\n",
        "from threading import Thread\n",
        "text_streamer = TextIteratorStreamer(tokenizer)\n",
        "import textwrap\n",
        "max_print_width = 100\n",
        "\n",
        "inputs = tokenizer(\n",
        "[\n",
        "    \"\"\"Explique os campos de uma tabela PDS\"\"\"\n",
        "]*1, return_tensors = \"pt\").to(\"cuda\")\n",
        "\n",
        "generation_kwargs = dict(\n",
        "    inputs,\n",
        "    streamer = text_streamer,\n",
        "    max_new_tokens = 8192,\n",
        "    use_cache = True,\n",
        ")\n",
        "thread = Thread(target = model.generate, kwargs = generation_kwargs)\n",
        "thread.start()\n",
        "\n",
        "length = 0\n",
        "for j, new_text in enumerate(text_streamer):\n",
        "    if j == 0:\n",
        "        wrapped_text = textwrap.wrap(new_text, width = max_print_width)\n",
        "        length = len(wrapped_text[-1])\n",
        "        wrapped_text = \"\\n\".join(wrapped_text)\n",
        "        print(wrapped_text, end = \"\")\n",
        "    else:\n",
        "        length += len(new_text)\n",
        "        if length >= max_print_width:\n",
        "            length = 0\n",
        "            print()\n",
        "        print(new_text, end = \"\")\n",
        "    pass\n",
        "pass"
      ],
      "id": "D7bV2cWUZXhV"
    },
    {
      "cell_type": "markdown",
      "metadata": {
        "id": "-cC8gXRnrF-O"
      },
      "source": [
        "### 7. Salvando modelo no Google Drive e Hugging Face"
      ],
      "id": "-cC8gXRnrF-O"
    },
    {
      "cell_type": "code",
      "source": [
        "# fazendo o merge do lora e salvando o modelo ajustado\n",
        "model.save_pretrained_merged(\"sagista-01\", tokenizer, save_method = \"merged_16bit\",)\n",
        "!cp -r \"/content/sagista-01/\" \"/content/drive/My Drive/sagista-01/\""
      ],
      "metadata": {
        "id": "sto00P5jSm_T"
      },
      "id": "sto00P5jSm_T",
      "execution_count": null,
      "outputs": []
    },
    {
      "cell_type": "markdown",
      "source": [
        "### Enviando modelo pro Hugging Face"
      ],
      "metadata": {
        "id": "PdkeYqvZNGVl"
      },
      "id": "PdkeYqvZNGVl"
    },
    {
      "cell_type": "code",
      "source": [
        "model, tokenizer = FastLanguageModel.from_pretrained(\"/content/drive/My Drive/sagista-01/\")"
      ],
      "metadata": {
        "id": "go9sHeHTN5ay"
      },
      "id": "go9sHeHTN5ay",
      "execution_count": null,
      "outputs": []
    },
    {
      "cell_type": "code",
      "source": [
        "from google.colab import userdata\n",
        "hf_token = userdata.get('HF')\n",
        "model.push_to_hub_merged(\"pascarujo/SageLlama-3.1-8B\", tokenizer, save_method=\"merged_16bit\", token=hf_token)"
      ],
      "metadata": {
        "id": "urNWYSpFqdDy"
      },
      "id": "urNWYSpFqdDy",
      "execution_count": null,
      "outputs": []
    },
    {
      "cell_type": "code",
      "source": [
        "quant_methods = [\"q2_k\", \"q3_k_m\", \"q4_k_m\", \"q5_k_m\", \"q6_k\", \"q8_0\"]\n",
        "for quant in quant_methods:\n",
        "    model.push_to_hub_gguf(\"pascarujo/SageLlama-3.1-8B-GGUF\", tokenizer, quant, token=hf_token)\n"
      ],
      "metadata": {
        "id": "NmHAThqgsMVV"
      },
      "id": "NmHAThqgsMVV",
      "execution_count": null,
      "outputs": []
    },
    {
      "cell_type": "code",
      "source": [],
      "metadata": {
        "id": "-tP8_-9GSt1V"
      },
      "id": "-tP8_-9GSt1V",
      "execution_count": null,
      "outputs": []
    }
  ],
  "metadata": {
    "colab": {
      "machine_shape": "hm",
      "provenance": [],
      "gpuType": "L4",
      "collapsed_sections": [
        "uBwLhWK85bRL",
        "gaDHoXknVfjj"
      ],
      "include_colab_link": true
    },
    "kernelspec": {
      "display_name": "Python 3",
      "name": "python3"
    },
    "language_info": {
      "codemirror_mode": {
        "name": "ipython",
        "version": 3
      },
      "file_extension": ".py",
      "mimetype": "text/x-python",
      "name": "python",
      "nbconvert_exporter": "python",
      "pygments_lexer": "ipython3",
      "version": "3.10.12"
    },
    "accelerator": "GPU",
    "widgets": {
      "application/vnd.jupyter.widget-state+json": {
        "dd00d1b59b6d4d1eb1cbaae20301f964": {
          "model_module": "@jupyter-widgets/controls",
          "model_name": "HBoxModel",
          "model_module_version": "1.5.0",
          "state": {
            "_dom_classes": [],
            "_model_module": "@jupyter-widgets/controls",
            "_model_module_version": "1.5.0",
            "_model_name": "HBoxModel",
            "_view_count": null,
            "_view_module": "@jupyter-widgets/controls",
            "_view_module_version": "1.5.0",
            "_view_name": "HBoxView",
            "box_style": "",
            "children": [
              "IPY_MODEL_711629dc15354686ad13a7508ca253ba",
              "IPY_MODEL_951a90efc3894137abb835c325dd770b",
              "IPY_MODEL_7047904d3d704fba92401ae86aadfd74"
            ],
            "layout": "IPY_MODEL_9c59032c357a4e67a048c114b38c43e9"
          }
        },
        "711629dc15354686ad13a7508ca253ba": {
          "model_module": "@jupyter-widgets/controls",
          "model_name": "HTMLModel",
          "model_module_version": "1.5.0",
          "state": {
            "_dom_classes": [],
            "_model_module": "@jupyter-widgets/controls",
            "_model_module_version": "1.5.0",
            "_model_name": "HTMLModel",
            "_view_count": null,
            "_view_module": "@jupyter-widgets/controls",
            "_view_module_version": "1.5.0",
            "_view_name": "HTMLView",
            "description": "",
            "description_tooltip": null,
            "layout": "IPY_MODEL_9b4acb61e9304566836460f06dbc9b2e",
            "placeholder": "​",
            "style": "IPY_MODEL_7afb1b6e73514961a7f42f1a53eb9539",
            "value": "Saving the dataset (1/1 shards): 100%"
          }
        },
        "951a90efc3894137abb835c325dd770b": {
          "model_module": "@jupyter-widgets/controls",
          "model_name": "FloatProgressModel",
          "model_module_version": "1.5.0",
          "state": {
            "_dom_classes": [],
            "_model_module": "@jupyter-widgets/controls",
            "_model_module_version": "1.5.0",
            "_model_name": "FloatProgressModel",
            "_view_count": null,
            "_view_module": "@jupyter-widgets/controls",
            "_view_module_version": "1.5.0",
            "_view_name": "ProgressView",
            "bar_style": "success",
            "description": "",
            "description_tooltip": null,
            "layout": "IPY_MODEL_518581b82b9443d88e6af3604adc393b",
            "max": 1740,
            "min": 0,
            "orientation": "horizontal",
            "style": "IPY_MODEL_4b70b04fffaf453f89aeeb00df9fabfe",
            "value": 1740
          }
        },
        "7047904d3d704fba92401ae86aadfd74": {
          "model_module": "@jupyter-widgets/controls",
          "model_name": "HTMLModel",
          "model_module_version": "1.5.0",
          "state": {
            "_dom_classes": [],
            "_model_module": "@jupyter-widgets/controls",
            "_model_module_version": "1.5.0",
            "_model_name": "HTMLModel",
            "_view_count": null,
            "_view_module": "@jupyter-widgets/controls",
            "_view_module_version": "1.5.0",
            "_view_name": "HTMLView",
            "description": "",
            "description_tooltip": null,
            "layout": "IPY_MODEL_7125d210023346a4b755269a3257b302",
            "placeholder": "​",
            "style": "IPY_MODEL_0360c86ed54e4c1eb0041df8202b59a4",
            "value": " 1740/1740 [00:00&lt;00:00, 65254.73 examples/s]"
          }
        },
        "9c59032c357a4e67a048c114b38c43e9": {
          "model_module": "@jupyter-widgets/base",
          "model_name": "LayoutModel",
          "model_module_version": "1.2.0",
          "state": {
            "_model_module": "@jupyter-widgets/base",
            "_model_module_version": "1.2.0",
            "_model_name": "LayoutModel",
            "_view_count": null,
            "_view_module": "@jupyter-widgets/base",
            "_view_module_version": "1.2.0",
            "_view_name": "LayoutView",
            "align_content": null,
            "align_items": null,
            "align_self": null,
            "border": null,
            "bottom": null,
            "display": null,
            "flex": null,
            "flex_flow": null,
            "grid_area": null,
            "grid_auto_columns": null,
            "grid_auto_flow": null,
            "grid_auto_rows": null,
            "grid_column": null,
            "grid_gap": null,
            "grid_row": null,
            "grid_template_areas": null,
            "grid_template_columns": null,
            "grid_template_rows": null,
            "height": null,
            "justify_content": null,
            "justify_items": null,
            "left": null,
            "margin": null,
            "max_height": null,
            "max_width": null,
            "min_height": null,
            "min_width": null,
            "object_fit": null,
            "object_position": null,
            "order": null,
            "overflow": null,
            "overflow_x": null,
            "overflow_y": null,
            "padding": null,
            "right": null,
            "top": null,
            "visibility": null,
            "width": null
          }
        },
        "9b4acb61e9304566836460f06dbc9b2e": {
          "model_module": "@jupyter-widgets/base",
          "model_name": "LayoutModel",
          "model_module_version": "1.2.0",
          "state": {
            "_model_module": "@jupyter-widgets/base",
            "_model_module_version": "1.2.0",
            "_model_name": "LayoutModel",
            "_view_count": null,
            "_view_module": "@jupyter-widgets/base",
            "_view_module_version": "1.2.0",
            "_view_name": "LayoutView",
            "align_content": null,
            "align_items": null,
            "align_self": null,
            "border": null,
            "bottom": null,
            "display": null,
            "flex": null,
            "flex_flow": null,
            "grid_area": null,
            "grid_auto_columns": null,
            "grid_auto_flow": null,
            "grid_auto_rows": null,
            "grid_column": null,
            "grid_gap": null,
            "grid_row": null,
            "grid_template_areas": null,
            "grid_template_columns": null,
            "grid_template_rows": null,
            "height": null,
            "justify_content": null,
            "justify_items": null,
            "left": null,
            "margin": null,
            "max_height": null,
            "max_width": null,
            "min_height": null,
            "min_width": null,
            "object_fit": null,
            "object_position": null,
            "order": null,
            "overflow": null,
            "overflow_x": null,
            "overflow_y": null,
            "padding": null,
            "right": null,
            "top": null,
            "visibility": null,
            "width": null
          }
        },
        "7afb1b6e73514961a7f42f1a53eb9539": {
          "model_module": "@jupyter-widgets/controls",
          "model_name": "DescriptionStyleModel",
          "model_module_version": "1.5.0",
          "state": {
            "_model_module": "@jupyter-widgets/controls",
            "_model_module_version": "1.5.0",
            "_model_name": "DescriptionStyleModel",
            "_view_count": null,
            "_view_module": "@jupyter-widgets/base",
            "_view_module_version": "1.2.0",
            "_view_name": "StyleView",
            "description_width": ""
          }
        },
        "518581b82b9443d88e6af3604adc393b": {
          "model_module": "@jupyter-widgets/base",
          "model_name": "LayoutModel",
          "model_module_version": "1.2.0",
          "state": {
            "_model_module": "@jupyter-widgets/base",
            "_model_module_version": "1.2.0",
            "_model_name": "LayoutModel",
            "_view_count": null,
            "_view_module": "@jupyter-widgets/base",
            "_view_module_version": "1.2.0",
            "_view_name": "LayoutView",
            "align_content": null,
            "align_items": null,
            "align_self": null,
            "border": null,
            "bottom": null,
            "display": null,
            "flex": null,
            "flex_flow": null,
            "grid_area": null,
            "grid_auto_columns": null,
            "grid_auto_flow": null,
            "grid_auto_rows": null,
            "grid_column": null,
            "grid_gap": null,
            "grid_row": null,
            "grid_template_areas": null,
            "grid_template_columns": null,
            "grid_template_rows": null,
            "height": null,
            "justify_content": null,
            "justify_items": null,
            "left": null,
            "margin": null,
            "max_height": null,
            "max_width": null,
            "min_height": null,
            "min_width": null,
            "object_fit": null,
            "object_position": null,
            "order": null,
            "overflow": null,
            "overflow_x": null,
            "overflow_y": null,
            "padding": null,
            "right": null,
            "top": null,
            "visibility": null,
            "width": null
          }
        },
        "4b70b04fffaf453f89aeeb00df9fabfe": {
          "model_module": "@jupyter-widgets/controls",
          "model_name": "ProgressStyleModel",
          "model_module_version": "1.5.0",
          "state": {
            "_model_module": "@jupyter-widgets/controls",
            "_model_module_version": "1.5.0",
            "_model_name": "ProgressStyleModel",
            "_view_count": null,
            "_view_module": "@jupyter-widgets/base",
            "_view_module_version": "1.2.0",
            "_view_name": "StyleView",
            "bar_color": null,
            "description_width": ""
          }
        },
        "7125d210023346a4b755269a3257b302": {
          "model_module": "@jupyter-widgets/base",
          "model_name": "LayoutModel",
          "model_module_version": "1.2.0",
          "state": {
            "_model_module": "@jupyter-widgets/base",
            "_model_module_version": "1.2.0",
            "_model_name": "LayoutModel",
            "_view_count": null,
            "_view_module": "@jupyter-widgets/base",
            "_view_module_version": "1.2.0",
            "_view_name": "LayoutView",
            "align_content": null,
            "align_items": null,
            "align_self": null,
            "border": null,
            "bottom": null,
            "display": null,
            "flex": null,
            "flex_flow": null,
            "grid_area": null,
            "grid_auto_columns": null,
            "grid_auto_flow": null,
            "grid_auto_rows": null,
            "grid_column": null,
            "grid_gap": null,
            "grid_row": null,
            "grid_template_areas": null,
            "grid_template_columns": null,
            "grid_template_rows": null,
            "height": null,
            "justify_content": null,
            "justify_items": null,
            "left": null,
            "margin": null,
            "max_height": null,
            "max_width": null,
            "min_height": null,
            "min_width": null,
            "object_fit": null,
            "object_position": null,
            "order": null,
            "overflow": null,
            "overflow_x": null,
            "overflow_y": null,
            "padding": null,
            "right": null,
            "top": null,
            "visibility": null,
            "width": null
          }
        },
        "0360c86ed54e4c1eb0041df8202b59a4": {
          "model_module": "@jupyter-widgets/controls",
          "model_name": "DescriptionStyleModel",
          "model_module_version": "1.5.0",
          "state": {
            "_model_module": "@jupyter-widgets/controls",
            "_model_module_version": "1.5.0",
            "_model_name": "DescriptionStyleModel",
            "_view_count": null,
            "_view_module": "@jupyter-widgets/base",
            "_view_module_version": "1.2.0",
            "_view_name": "StyleView",
            "description_width": ""
          }
        },
        "11413c2980f143ea9d57fdcd612cca11": {
          "model_module": "@jupyter-widgets/controls",
          "model_name": "HBoxModel",
          "model_module_version": "1.5.0",
          "state": {
            "_dom_classes": [],
            "_model_module": "@jupyter-widgets/controls",
            "_model_module_version": "1.5.0",
            "_model_name": "HBoxModel",
            "_view_count": null,
            "_view_module": "@jupyter-widgets/controls",
            "_view_module_version": "1.5.0",
            "_view_name": "HBoxView",
            "box_style": "",
            "children": [
              "IPY_MODEL_744fcb077e6844be8b1879935dbbb8c7",
              "IPY_MODEL_afcaf1c6abd540089737c6cb3b4471e2",
              "IPY_MODEL_c69cf282114349d9ad639be3e10231b8"
            ],
            "layout": "IPY_MODEL_78070b16d36341a6937f35d2e84c2406"
          }
        },
        "744fcb077e6844be8b1879935dbbb8c7": {
          "model_module": "@jupyter-widgets/controls",
          "model_name": "HTMLModel",
          "model_module_version": "1.5.0",
          "state": {
            "_dom_classes": [],
            "_model_module": "@jupyter-widgets/controls",
            "_model_module_version": "1.5.0",
            "_model_name": "HTMLModel",
            "_view_count": null,
            "_view_module": "@jupyter-widgets/controls",
            "_view_module_version": "1.5.0",
            "_view_name": "HTMLView",
            "description": "",
            "description_tooltip": null,
            "layout": "IPY_MODEL_8cd7cb528c0749edb0ff2680ec567505",
            "placeholder": "​",
            "style": "IPY_MODEL_3213e579b8f74ec1a9deb865566dfe0d",
            "value": "Saving the dataset (1/1 shards): 100%"
          }
        },
        "afcaf1c6abd540089737c6cb3b4471e2": {
          "model_module": "@jupyter-widgets/controls",
          "model_name": "FloatProgressModel",
          "model_module_version": "1.5.0",
          "state": {
            "_dom_classes": [],
            "_model_module": "@jupyter-widgets/controls",
            "_model_module_version": "1.5.0",
            "_model_name": "FloatProgressModel",
            "_view_count": null,
            "_view_module": "@jupyter-widgets/controls",
            "_view_module_version": "1.5.0",
            "_view_name": "ProgressView",
            "bar_style": "success",
            "description": "",
            "description_tooltip": null,
            "layout": "IPY_MODEL_381fcb290868485da7c3b0a4348fb7e9",
            "max": 1740,
            "min": 0,
            "orientation": "horizontal",
            "style": "IPY_MODEL_46f18f12f2464109b75ae2d17e2202fa",
            "value": 1740
          }
        },
        "c69cf282114349d9ad639be3e10231b8": {
          "model_module": "@jupyter-widgets/controls",
          "model_name": "HTMLModel",
          "model_module_version": "1.5.0",
          "state": {
            "_dom_classes": [],
            "_model_module": "@jupyter-widgets/controls",
            "_model_module_version": "1.5.0",
            "_model_name": "HTMLModel",
            "_view_count": null,
            "_view_module": "@jupyter-widgets/controls",
            "_view_module_version": "1.5.0",
            "_view_name": "HTMLView",
            "description": "",
            "description_tooltip": null,
            "layout": "IPY_MODEL_bb5016f144da4ea380bd6c99fa966073",
            "placeholder": "​",
            "style": "IPY_MODEL_6513f2137b3848d7ba014b9aadac0a73",
            "value": " 1740/1740 [00:00&lt;00:00, 70641.25 examples/s]"
          }
        },
        "78070b16d36341a6937f35d2e84c2406": {
          "model_module": "@jupyter-widgets/base",
          "model_name": "LayoutModel",
          "model_module_version": "1.2.0",
          "state": {
            "_model_module": "@jupyter-widgets/base",
            "_model_module_version": "1.2.0",
            "_model_name": "LayoutModel",
            "_view_count": null,
            "_view_module": "@jupyter-widgets/base",
            "_view_module_version": "1.2.0",
            "_view_name": "LayoutView",
            "align_content": null,
            "align_items": null,
            "align_self": null,
            "border": null,
            "bottom": null,
            "display": null,
            "flex": null,
            "flex_flow": null,
            "grid_area": null,
            "grid_auto_columns": null,
            "grid_auto_flow": null,
            "grid_auto_rows": null,
            "grid_column": null,
            "grid_gap": null,
            "grid_row": null,
            "grid_template_areas": null,
            "grid_template_columns": null,
            "grid_template_rows": null,
            "height": null,
            "justify_content": null,
            "justify_items": null,
            "left": null,
            "margin": null,
            "max_height": null,
            "max_width": null,
            "min_height": null,
            "min_width": null,
            "object_fit": null,
            "object_position": null,
            "order": null,
            "overflow": null,
            "overflow_x": null,
            "overflow_y": null,
            "padding": null,
            "right": null,
            "top": null,
            "visibility": null,
            "width": null
          }
        },
        "8cd7cb528c0749edb0ff2680ec567505": {
          "model_module": "@jupyter-widgets/base",
          "model_name": "LayoutModel",
          "model_module_version": "1.2.0",
          "state": {
            "_model_module": "@jupyter-widgets/base",
            "_model_module_version": "1.2.0",
            "_model_name": "LayoutModel",
            "_view_count": null,
            "_view_module": "@jupyter-widgets/base",
            "_view_module_version": "1.2.0",
            "_view_name": "LayoutView",
            "align_content": null,
            "align_items": null,
            "align_self": null,
            "border": null,
            "bottom": null,
            "display": null,
            "flex": null,
            "flex_flow": null,
            "grid_area": null,
            "grid_auto_columns": null,
            "grid_auto_flow": null,
            "grid_auto_rows": null,
            "grid_column": null,
            "grid_gap": null,
            "grid_row": null,
            "grid_template_areas": null,
            "grid_template_columns": null,
            "grid_template_rows": null,
            "height": null,
            "justify_content": null,
            "justify_items": null,
            "left": null,
            "margin": null,
            "max_height": null,
            "max_width": null,
            "min_height": null,
            "min_width": null,
            "object_fit": null,
            "object_position": null,
            "order": null,
            "overflow": null,
            "overflow_x": null,
            "overflow_y": null,
            "padding": null,
            "right": null,
            "top": null,
            "visibility": null,
            "width": null
          }
        },
        "3213e579b8f74ec1a9deb865566dfe0d": {
          "model_module": "@jupyter-widgets/controls",
          "model_name": "DescriptionStyleModel",
          "model_module_version": "1.5.0",
          "state": {
            "_model_module": "@jupyter-widgets/controls",
            "_model_module_version": "1.5.0",
            "_model_name": "DescriptionStyleModel",
            "_view_count": null,
            "_view_module": "@jupyter-widgets/base",
            "_view_module_version": "1.2.0",
            "_view_name": "StyleView",
            "description_width": ""
          }
        },
        "381fcb290868485da7c3b0a4348fb7e9": {
          "model_module": "@jupyter-widgets/base",
          "model_name": "LayoutModel",
          "model_module_version": "1.2.0",
          "state": {
            "_model_module": "@jupyter-widgets/base",
            "_model_module_version": "1.2.0",
            "_model_name": "LayoutModel",
            "_view_count": null,
            "_view_module": "@jupyter-widgets/base",
            "_view_module_version": "1.2.0",
            "_view_name": "LayoutView",
            "align_content": null,
            "align_items": null,
            "align_self": null,
            "border": null,
            "bottom": null,
            "display": null,
            "flex": null,
            "flex_flow": null,
            "grid_area": null,
            "grid_auto_columns": null,
            "grid_auto_flow": null,
            "grid_auto_rows": null,
            "grid_column": null,
            "grid_gap": null,
            "grid_row": null,
            "grid_template_areas": null,
            "grid_template_columns": null,
            "grid_template_rows": null,
            "height": null,
            "justify_content": null,
            "justify_items": null,
            "left": null,
            "margin": null,
            "max_height": null,
            "max_width": null,
            "min_height": null,
            "min_width": null,
            "object_fit": null,
            "object_position": null,
            "order": null,
            "overflow": null,
            "overflow_x": null,
            "overflow_y": null,
            "padding": null,
            "right": null,
            "top": null,
            "visibility": null,
            "width": null
          }
        },
        "46f18f12f2464109b75ae2d17e2202fa": {
          "model_module": "@jupyter-widgets/controls",
          "model_name": "ProgressStyleModel",
          "model_module_version": "1.5.0",
          "state": {
            "_model_module": "@jupyter-widgets/controls",
            "_model_module_version": "1.5.0",
            "_model_name": "ProgressStyleModel",
            "_view_count": null,
            "_view_module": "@jupyter-widgets/base",
            "_view_module_version": "1.2.0",
            "_view_name": "StyleView",
            "bar_color": null,
            "description_width": ""
          }
        },
        "bb5016f144da4ea380bd6c99fa966073": {
          "model_module": "@jupyter-widgets/base",
          "model_name": "LayoutModel",
          "model_module_version": "1.2.0",
          "state": {
            "_model_module": "@jupyter-widgets/base",
            "_model_module_version": "1.2.0",
            "_model_name": "LayoutModel",
            "_view_count": null,
            "_view_module": "@jupyter-widgets/base",
            "_view_module_version": "1.2.0",
            "_view_name": "LayoutView",
            "align_content": null,
            "align_items": null,
            "align_self": null,
            "border": null,
            "bottom": null,
            "display": null,
            "flex": null,
            "flex_flow": null,
            "grid_area": null,
            "grid_auto_columns": null,
            "grid_auto_flow": null,
            "grid_auto_rows": null,
            "grid_column": null,
            "grid_gap": null,
            "grid_row": null,
            "grid_template_areas": null,
            "grid_template_columns": null,
            "grid_template_rows": null,
            "height": null,
            "justify_content": null,
            "justify_items": null,
            "left": null,
            "margin": null,
            "max_height": null,
            "max_width": null,
            "min_height": null,
            "min_width": null,
            "object_fit": null,
            "object_position": null,
            "order": null,
            "overflow": null,
            "overflow_x": null,
            "overflow_y": null,
            "padding": null,
            "right": null,
            "top": null,
            "visibility": null,
            "width": null
          }
        },
        "6513f2137b3848d7ba014b9aadac0a73": {
          "model_module": "@jupyter-widgets/controls",
          "model_name": "DescriptionStyleModel",
          "model_module_version": "1.5.0",
          "state": {
            "_model_module": "@jupyter-widgets/controls",
            "_model_module_version": "1.5.0",
            "_model_name": "DescriptionStyleModel",
            "_view_count": null,
            "_view_module": "@jupyter-widgets/base",
            "_view_module_version": "1.2.0",
            "_view_name": "StyleView",
            "description_width": ""
          }
        },
        "052ec8ed3cd245f983d5fbec9b5e1225": {
          "model_module": "@jupyter-widgets/controls",
          "model_name": "HBoxModel",
          "model_module_version": "1.5.0",
          "state": {
            "_dom_classes": [],
            "_model_module": "@jupyter-widgets/controls",
            "_model_module_version": "1.5.0",
            "_model_name": "HBoxModel",
            "_view_count": null,
            "_view_module": "@jupyter-widgets/controls",
            "_view_module_version": "1.5.0",
            "_view_name": "HBoxView",
            "box_style": "",
            "children": [
              "IPY_MODEL_120b81321cd940a6a5f1341788fa7b5e",
              "IPY_MODEL_db2cdc04937e481bac0a329b45f33416",
              "IPY_MODEL_eaa1a1166a5941a2bb02ef0cbcbbe632"
            ],
            "layout": "IPY_MODEL_b755ef5ceff8490fbc780bfefa7972eb"
          }
        },
        "120b81321cd940a6a5f1341788fa7b5e": {
          "model_module": "@jupyter-widgets/controls",
          "model_name": "HTMLModel",
          "model_module_version": "1.5.0",
          "state": {
            "_dom_classes": [],
            "_model_module": "@jupyter-widgets/controls",
            "_model_module_version": "1.5.0",
            "_model_name": "HTMLModel",
            "_view_count": null,
            "_view_module": "@jupyter-widgets/controls",
            "_view_module_version": "1.5.0",
            "_view_name": "HTMLView",
            "description": "",
            "description_tooltip": null,
            "layout": "IPY_MODEL_8b25079fe86c49e4a23dd5bef97899e1",
            "placeholder": "​",
            "style": "IPY_MODEL_fa02ee75be3f4d4c9dc4b280f8c097ec",
            "value": "README.md: 100%"
          }
        },
        "db2cdc04937e481bac0a329b45f33416": {
          "model_module": "@jupyter-widgets/controls",
          "model_name": "FloatProgressModel",
          "model_module_version": "1.5.0",
          "state": {
            "_dom_classes": [],
            "_model_module": "@jupyter-widgets/controls",
            "_model_module_version": "1.5.0",
            "_model_name": "FloatProgressModel",
            "_view_count": null,
            "_view_module": "@jupyter-widgets/controls",
            "_view_module_version": "1.5.0",
            "_view_name": "ProgressView",
            "bar_style": "success",
            "description": "",
            "description_tooltip": null,
            "layout": "IPY_MODEL_af36302fb22e4792a7c580c160c5bc25",
            "max": 28,
            "min": 0,
            "orientation": "horizontal",
            "style": "IPY_MODEL_7009587e71c24410a31d9712624fa393",
            "value": 28
          }
        },
        "eaa1a1166a5941a2bb02ef0cbcbbe632": {
          "model_module": "@jupyter-widgets/controls",
          "model_name": "HTMLModel",
          "model_module_version": "1.5.0",
          "state": {
            "_dom_classes": [],
            "_model_module": "@jupyter-widgets/controls",
            "_model_module_version": "1.5.0",
            "_model_name": "HTMLModel",
            "_view_count": null,
            "_view_module": "@jupyter-widgets/controls",
            "_view_module_version": "1.5.0",
            "_view_name": "HTMLView",
            "description": "",
            "description_tooltip": null,
            "layout": "IPY_MODEL_aefbcfc127944dfba1330dbc6c9fddaf",
            "placeholder": "​",
            "style": "IPY_MODEL_216779ef343546a4b8e1fa70f01b6cc0",
            "value": " 28.0/28.0 [00:00&lt;00:00, 2.47kB/s]"
          }
        },
        "b755ef5ceff8490fbc780bfefa7972eb": {
          "model_module": "@jupyter-widgets/base",
          "model_name": "LayoutModel",
          "model_module_version": "1.2.0",
          "state": {
            "_model_module": "@jupyter-widgets/base",
            "_model_module_version": "1.2.0",
            "_model_name": "LayoutModel",
            "_view_count": null,
            "_view_module": "@jupyter-widgets/base",
            "_view_module_version": "1.2.0",
            "_view_name": "LayoutView",
            "align_content": null,
            "align_items": null,
            "align_self": null,
            "border": null,
            "bottom": null,
            "display": null,
            "flex": null,
            "flex_flow": null,
            "grid_area": null,
            "grid_auto_columns": null,
            "grid_auto_flow": null,
            "grid_auto_rows": null,
            "grid_column": null,
            "grid_gap": null,
            "grid_row": null,
            "grid_template_areas": null,
            "grid_template_columns": null,
            "grid_template_rows": null,
            "height": null,
            "justify_content": null,
            "justify_items": null,
            "left": null,
            "margin": null,
            "max_height": null,
            "max_width": null,
            "min_height": null,
            "min_width": null,
            "object_fit": null,
            "object_position": null,
            "order": null,
            "overflow": null,
            "overflow_x": null,
            "overflow_y": null,
            "padding": null,
            "right": null,
            "top": null,
            "visibility": null,
            "width": null
          }
        },
        "8b25079fe86c49e4a23dd5bef97899e1": {
          "model_module": "@jupyter-widgets/base",
          "model_name": "LayoutModel",
          "model_module_version": "1.2.0",
          "state": {
            "_model_module": "@jupyter-widgets/base",
            "_model_module_version": "1.2.0",
            "_model_name": "LayoutModel",
            "_view_count": null,
            "_view_module": "@jupyter-widgets/base",
            "_view_module_version": "1.2.0",
            "_view_name": "LayoutView",
            "align_content": null,
            "align_items": null,
            "align_self": null,
            "border": null,
            "bottom": null,
            "display": null,
            "flex": null,
            "flex_flow": null,
            "grid_area": null,
            "grid_auto_columns": null,
            "grid_auto_flow": null,
            "grid_auto_rows": null,
            "grid_column": null,
            "grid_gap": null,
            "grid_row": null,
            "grid_template_areas": null,
            "grid_template_columns": null,
            "grid_template_rows": null,
            "height": null,
            "justify_content": null,
            "justify_items": null,
            "left": null,
            "margin": null,
            "max_height": null,
            "max_width": null,
            "min_height": null,
            "min_width": null,
            "object_fit": null,
            "object_position": null,
            "order": null,
            "overflow": null,
            "overflow_x": null,
            "overflow_y": null,
            "padding": null,
            "right": null,
            "top": null,
            "visibility": null,
            "width": null
          }
        },
        "fa02ee75be3f4d4c9dc4b280f8c097ec": {
          "model_module": "@jupyter-widgets/controls",
          "model_name": "DescriptionStyleModel",
          "model_module_version": "1.5.0",
          "state": {
            "_model_module": "@jupyter-widgets/controls",
            "_model_module_version": "1.5.0",
            "_model_name": "DescriptionStyleModel",
            "_view_count": null,
            "_view_module": "@jupyter-widgets/base",
            "_view_module_version": "1.2.0",
            "_view_name": "StyleView",
            "description_width": ""
          }
        },
        "af36302fb22e4792a7c580c160c5bc25": {
          "model_module": "@jupyter-widgets/base",
          "model_name": "LayoutModel",
          "model_module_version": "1.2.0",
          "state": {
            "_model_module": "@jupyter-widgets/base",
            "_model_module_version": "1.2.0",
            "_model_name": "LayoutModel",
            "_view_count": null,
            "_view_module": "@jupyter-widgets/base",
            "_view_module_version": "1.2.0",
            "_view_name": "LayoutView",
            "align_content": null,
            "align_items": null,
            "align_self": null,
            "border": null,
            "bottom": null,
            "display": null,
            "flex": null,
            "flex_flow": null,
            "grid_area": null,
            "grid_auto_columns": null,
            "grid_auto_flow": null,
            "grid_auto_rows": null,
            "grid_column": null,
            "grid_gap": null,
            "grid_row": null,
            "grid_template_areas": null,
            "grid_template_columns": null,
            "grid_template_rows": null,
            "height": null,
            "justify_content": null,
            "justify_items": null,
            "left": null,
            "margin": null,
            "max_height": null,
            "max_width": null,
            "min_height": null,
            "min_width": null,
            "object_fit": null,
            "object_position": null,
            "order": null,
            "overflow": null,
            "overflow_x": null,
            "overflow_y": null,
            "padding": null,
            "right": null,
            "top": null,
            "visibility": null,
            "width": null
          }
        },
        "7009587e71c24410a31d9712624fa393": {
          "model_module": "@jupyter-widgets/controls",
          "model_name": "ProgressStyleModel",
          "model_module_version": "1.5.0",
          "state": {
            "_model_module": "@jupyter-widgets/controls",
            "_model_module_version": "1.5.0",
            "_model_name": "ProgressStyleModel",
            "_view_count": null,
            "_view_module": "@jupyter-widgets/base",
            "_view_module_version": "1.2.0",
            "_view_name": "StyleView",
            "bar_color": null,
            "description_width": ""
          }
        },
        "aefbcfc127944dfba1330dbc6c9fddaf": {
          "model_module": "@jupyter-widgets/base",
          "model_name": "LayoutModel",
          "model_module_version": "1.2.0",
          "state": {
            "_model_module": "@jupyter-widgets/base",
            "_model_module_version": "1.2.0",
            "_model_name": "LayoutModel",
            "_view_count": null,
            "_view_module": "@jupyter-widgets/base",
            "_view_module_version": "1.2.0",
            "_view_name": "LayoutView",
            "align_content": null,
            "align_items": null,
            "align_self": null,
            "border": null,
            "bottom": null,
            "display": null,
            "flex": null,
            "flex_flow": null,
            "grid_area": null,
            "grid_auto_columns": null,
            "grid_auto_flow": null,
            "grid_auto_rows": null,
            "grid_column": null,
            "grid_gap": null,
            "grid_row": null,
            "grid_template_areas": null,
            "grid_template_columns": null,
            "grid_template_rows": null,
            "height": null,
            "justify_content": null,
            "justify_items": null,
            "left": null,
            "margin": null,
            "max_height": null,
            "max_width": null,
            "min_height": null,
            "min_width": null,
            "object_fit": null,
            "object_position": null,
            "order": null,
            "overflow": null,
            "overflow_x": null,
            "overflow_y": null,
            "padding": null,
            "right": null,
            "top": null,
            "visibility": null,
            "width": null
          }
        },
        "216779ef343546a4b8e1fa70f01b6cc0": {
          "model_module": "@jupyter-widgets/controls",
          "model_name": "DescriptionStyleModel",
          "model_module_version": "1.5.0",
          "state": {
            "_model_module": "@jupyter-widgets/controls",
            "_model_module_version": "1.5.0",
            "_model_name": "DescriptionStyleModel",
            "_view_count": null,
            "_view_module": "@jupyter-widgets/base",
            "_view_module_version": "1.2.0",
            "_view_name": "StyleView",
            "description_width": ""
          }
        },
        "45c44e1b28064bdd91af52d69fe5194d": {
          "model_module": "@jupyter-widgets/controls",
          "model_name": "HBoxModel",
          "model_module_version": "1.5.0",
          "state": {
            "_dom_classes": [],
            "_model_module": "@jupyter-widgets/controls",
            "_model_module_version": "1.5.0",
            "_model_name": "HBoxModel",
            "_view_count": null,
            "_view_module": "@jupyter-widgets/controls",
            "_view_module_version": "1.5.0",
            "_view_name": "HBoxView",
            "box_style": "",
            "children": [
              "IPY_MODEL_9baf4d0811c840138a87d67dfbeb8298",
              "IPY_MODEL_8683bd451c8e47c2a6c0601bf9f864fa",
              "IPY_MODEL_09f60661240448edafc9b1f1a4dd9f91"
            ],
            "layout": "IPY_MODEL_7c8a7067f0a84e15a54c7eaefe0fc5e7"
          }
        },
        "9baf4d0811c840138a87d67dfbeb8298": {
          "model_module": "@jupyter-widgets/controls",
          "model_name": "HTMLModel",
          "model_module_version": "1.5.0",
          "state": {
            "_dom_classes": [],
            "_model_module": "@jupyter-widgets/controls",
            "_model_module_version": "1.5.0",
            "_model_name": "HTMLModel",
            "_view_count": null,
            "_view_module": "@jupyter-widgets/controls",
            "_view_module_version": "1.5.0",
            "_view_name": "HTMLView",
            "description": "",
            "description_tooltip": null,
            "layout": "IPY_MODEL_47b235a712bc480d95c4f9b535c1db5e",
            "placeholder": "​",
            "style": "IPY_MODEL_f00de627ac3a4b59b5e61627949dec69",
            "value": "qa_training_data.jsonl: 100%"
          }
        },
        "8683bd451c8e47c2a6c0601bf9f864fa": {
          "model_module": "@jupyter-widgets/controls",
          "model_name": "FloatProgressModel",
          "model_module_version": "1.5.0",
          "state": {
            "_dom_classes": [],
            "_model_module": "@jupyter-widgets/controls",
            "_model_module_version": "1.5.0",
            "_model_name": "FloatProgressModel",
            "_view_count": null,
            "_view_module": "@jupyter-widgets/controls",
            "_view_module_version": "1.5.0",
            "_view_name": "ProgressView",
            "bar_style": "success",
            "description": "",
            "description_tooltip": null,
            "layout": "IPY_MODEL_b160b049c0514a71ba09c82a609193bd",
            "max": 1087677,
            "min": 0,
            "orientation": "horizontal",
            "style": "IPY_MODEL_26e587ae8f9340eab762ea9f9201daa3",
            "value": 1087677
          }
        },
        "09f60661240448edafc9b1f1a4dd9f91": {
          "model_module": "@jupyter-widgets/controls",
          "model_name": "HTMLModel",
          "model_module_version": "1.5.0",
          "state": {
            "_dom_classes": [],
            "_model_module": "@jupyter-widgets/controls",
            "_model_module_version": "1.5.0",
            "_model_name": "HTMLModel",
            "_view_count": null,
            "_view_module": "@jupyter-widgets/controls",
            "_view_module_version": "1.5.0",
            "_view_name": "HTMLView",
            "description": "",
            "description_tooltip": null,
            "layout": "IPY_MODEL_ea1f13e29157459e8679f212c067b6ec",
            "placeholder": "​",
            "style": "IPY_MODEL_32d87731660946769a2cd3052b193d14",
            "value": " 1.09M/1.09M [00:00&lt;00:00, 1.28MB/s]"
          }
        },
        "7c8a7067f0a84e15a54c7eaefe0fc5e7": {
          "model_module": "@jupyter-widgets/base",
          "model_name": "LayoutModel",
          "model_module_version": "1.2.0",
          "state": {
            "_model_module": "@jupyter-widgets/base",
            "_model_module_version": "1.2.0",
            "_model_name": "LayoutModel",
            "_view_count": null,
            "_view_module": "@jupyter-widgets/base",
            "_view_module_version": "1.2.0",
            "_view_name": "LayoutView",
            "align_content": null,
            "align_items": null,
            "align_self": null,
            "border": null,
            "bottom": null,
            "display": null,
            "flex": null,
            "flex_flow": null,
            "grid_area": null,
            "grid_auto_columns": null,
            "grid_auto_flow": null,
            "grid_auto_rows": null,
            "grid_column": null,
            "grid_gap": null,
            "grid_row": null,
            "grid_template_areas": null,
            "grid_template_columns": null,
            "grid_template_rows": null,
            "height": null,
            "justify_content": null,
            "justify_items": null,
            "left": null,
            "margin": null,
            "max_height": null,
            "max_width": null,
            "min_height": null,
            "min_width": null,
            "object_fit": null,
            "object_position": null,
            "order": null,
            "overflow": null,
            "overflow_x": null,
            "overflow_y": null,
            "padding": null,
            "right": null,
            "top": null,
            "visibility": null,
            "width": null
          }
        },
        "47b235a712bc480d95c4f9b535c1db5e": {
          "model_module": "@jupyter-widgets/base",
          "model_name": "LayoutModel",
          "model_module_version": "1.2.0",
          "state": {
            "_model_module": "@jupyter-widgets/base",
            "_model_module_version": "1.2.0",
            "_model_name": "LayoutModel",
            "_view_count": null,
            "_view_module": "@jupyter-widgets/base",
            "_view_module_version": "1.2.0",
            "_view_name": "LayoutView",
            "align_content": null,
            "align_items": null,
            "align_self": null,
            "border": null,
            "bottom": null,
            "display": null,
            "flex": null,
            "flex_flow": null,
            "grid_area": null,
            "grid_auto_columns": null,
            "grid_auto_flow": null,
            "grid_auto_rows": null,
            "grid_column": null,
            "grid_gap": null,
            "grid_row": null,
            "grid_template_areas": null,
            "grid_template_columns": null,
            "grid_template_rows": null,
            "height": null,
            "justify_content": null,
            "justify_items": null,
            "left": null,
            "margin": null,
            "max_height": null,
            "max_width": null,
            "min_height": null,
            "min_width": null,
            "object_fit": null,
            "object_position": null,
            "order": null,
            "overflow": null,
            "overflow_x": null,
            "overflow_y": null,
            "padding": null,
            "right": null,
            "top": null,
            "visibility": null,
            "width": null
          }
        },
        "f00de627ac3a4b59b5e61627949dec69": {
          "model_module": "@jupyter-widgets/controls",
          "model_name": "DescriptionStyleModel",
          "model_module_version": "1.5.0",
          "state": {
            "_model_module": "@jupyter-widgets/controls",
            "_model_module_version": "1.5.0",
            "_model_name": "DescriptionStyleModel",
            "_view_count": null,
            "_view_module": "@jupyter-widgets/base",
            "_view_module_version": "1.2.0",
            "_view_name": "StyleView",
            "description_width": ""
          }
        },
        "b160b049c0514a71ba09c82a609193bd": {
          "model_module": "@jupyter-widgets/base",
          "model_name": "LayoutModel",
          "model_module_version": "1.2.0",
          "state": {
            "_model_module": "@jupyter-widgets/base",
            "_model_module_version": "1.2.0",
            "_model_name": "LayoutModel",
            "_view_count": null,
            "_view_module": "@jupyter-widgets/base",
            "_view_module_version": "1.2.0",
            "_view_name": "LayoutView",
            "align_content": null,
            "align_items": null,
            "align_self": null,
            "border": null,
            "bottom": null,
            "display": null,
            "flex": null,
            "flex_flow": null,
            "grid_area": null,
            "grid_auto_columns": null,
            "grid_auto_flow": null,
            "grid_auto_rows": null,
            "grid_column": null,
            "grid_gap": null,
            "grid_row": null,
            "grid_template_areas": null,
            "grid_template_columns": null,
            "grid_template_rows": null,
            "height": null,
            "justify_content": null,
            "justify_items": null,
            "left": null,
            "margin": null,
            "max_height": null,
            "max_width": null,
            "min_height": null,
            "min_width": null,
            "object_fit": null,
            "object_position": null,
            "order": null,
            "overflow": null,
            "overflow_x": null,
            "overflow_y": null,
            "padding": null,
            "right": null,
            "top": null,
            "visibility": null,
            "width": null
          }
        },
        "26e587ae8f9340eab762ea9f9201daa3": {
          "model_module": "@jupyter-widgets/controls",
          "model_name": "ProgressStyleModel",
          "model_module_version": "1.5.0",
          "state": {
            "_model_module": "@jupyter-widgets/controls",
            "_model_module_version": "1.5.0",
            "_model_name": "ProgressStyleModel",
            "_view_count": null,
            "_view_module": "@jupyter-widgets/base",
            "_view_module_version": "1.2.0",
            "_view_name": "StyleView",
            "bar_color": null,
            "description_width": ""
          }
        },
        "ea1f13e29157459e8679f212c067b6ec": {
          "model_module": "@jupyter-widgets/base",
          "model_name": "LayoutModel",
          "model_module_version": "1.2.0",
          "state": {
            "_model_module": "@jupyter-widgets/base",
            "_model_module_version": "1.2.0",
            "_model_name": "LayoutModel",
            "_view_count": null,
            "_view_module": "@jupyter-widgets/base",
            "_view_module_version": "1.2.0",
            "_view_name": "LayoutView",
            "align_content": null,
            "align_items": null,
            "align_self": null,
            "border": null,
            "bottom": null,
            "display": null,
            "flex": null,
            "flex_flow": null,
            "grid_area": null,
            "grid_auto_columns": null,
            "grid_auto_flow": null,
            "grid_auto_rows": null,
            "grid_column": null,
            "grid_gap": null,
            "grid_row": null,
            "grid_template_areas": null,
            "grid_template_columns": null,
            "grid_template_rows": null,
            "height": null,
            "justify_content": null,
            "justify_items": null,
            "left": null,
            "margin": null,
            "max_height": null,
            "max_width": null,
            "min_height": null,
            "min_width": null,
            "object_fit": null,
            "object_position": null,
            "order": null,
            "overflow": null,
            "overflow_x": null,
            "overflow_y": null,
            "padding": null,
            "right": null,
            "top": null,
            "visibility": null,
            "width": null
          }
        },
        "32d87731660946769a2cd3052b193d14": {
          "model_module": "@jupyter-widgets/controls",
          "model_name": "DescriptionStyleModel",
          "model_module_version": "1.5.0",
          "state": {
            "_model_module": "@jupyter-widgets/controls",
            "_model_module_version": "1.5.0",
            "_model_name": "DescriptionStyleModel",
            "_view_count": null,
            "_view_module": "@jupyter-widgets/base",
            "_view_module_version": "1.2.0",
            "_view_name": "StyleView",
            "description_width": ""
          }
        },
        "e3bb563ebff14d1ba497b2d3ed8d88b2": {
          "model_module": "@jupyter-widgets/controls",
          "model_name": "HBoxModel",
          "model_module_version": "1.5.0",
          "state": {
            "_dom_classes": [],
            "_model_module": "@jupyter-widgets/controls",
            "_model_module_version": "1.5.0",
            "_model_name": "HBoxModel",
            "_view_count": null,
            "_view_module": "@jupyter-widgets/controls",
            "_view_module_version": "1.5.0",
            "_view_name": "HBoxView",
            "box_style": "",
            "children": [
              "IPY_MODEL_54329f95eaee4f019afe487f5ee1cefb",
              "IPY_MODEL_e26355f8442747b2879ed1f21e473ba3",
              "IPY_MODEL_02719b29ecb8430fb2e69506eebe20f2"
            ],
            "layout": "IPY_MODEL_975b207f5fac4219a33620ea68e619ad"
          }
        },
        "54329f95eaee4f019afe487f5ee1cefb": {
          "model_module": "@jupyter-widgets/controls",
          "model_name": "HTMLModel",
          "model_module_version": "1.5.0",
          "state": {
            "_dom_classes": [],
            "_model_module": "@jupyter-widgets/controls",
            "_model_module_version": "1.5.0",
            "_model_name": "HTMLModel",
            "_view_count": null,
            "_view_module": "@jupyter-widgets/controls",
            "_view_module_version": "1.5.0",
            "_view_name": "HTMLView",
            "description": "",
            "description_tooltip": null,
            "layout": "IPY_MODEL_e6614fb213434de6ab9f01332a0c16e4",
            "placeholder": "​",
            "style": "IPY_MODEL_f92f83fcfed1435db7e3397fac18ca09",
            "value": "Generating train split: 100%"
          }
        },
        "e26355f8442747b2879ed1f21e473ba3": {
          "model_module": "@jupyter-widgets/controls",
          "model_name": "FloatProgressModel",
          "model_module_version": "1.5.0",
          "state": {
            "_dom_classes": [],
            "_model_module": "@jupyter-widgets/controls",
            "_model_module_version": "1.5.0",
            "_model_name": "FloatProgressModel",
            "_view_count": null,
            "_view_module": "@jupyter-widgets/controls",
            "_view_module_version": "1.5.0",
            "_view_name": "ProgressView",
            "bar_style": "success",
            "description": "",
            "description_tooltip": null,
            "layout": "IPY_MODEL_c2087cbb8d134aeea35e55f6aeff800f",
            "max": 1740,
            "min": 0,
            "orientation": "horizontal",
            "style": "IPY_MODEL_693f449edee84829aeed64277168a61c",
            "value": 1740
          }
        },
        "02719b29ecb8430fb2e69506eebe20f2": {
          "model_module": "@jupyter-widgets/controls",
          "model_name": "HTMLModel",
          "model_module_version": "1.5.0",
          "state": {
            "_dom_classes": [],
            "_model_module": "@jupyter-widgets/controls",
            "_model_module_version": "1.5.0",
            "_model_name": "HTMLModel",
            "_view_count": null,
            "_view_module": "@jupyter-widgets/controls",
            "_view_module_version": "1.5.0",
            "_view_name": "HTMLView",
            "description": "",
            "description_tooltip": null,
            "layout": "IPY_MODEL_77ff07518a3344cb832a49b9f8c3a723",
            "placeholder": "​",
            "style": "IPY_MODEL_91b0cd85c47043d19ca1237db731ca2e",
            "value": " 1740/1740 [00:00&lt;00:00, 31473.56 examples/s]"
          }
        },
        "975b207f5fac4219a33620ea68e619ad": {
          "model_module": "@jupyter-widgets/base",
          "model_name": "LayoutModel",
          "model_module_version": "1.2.0",
          "state": {
            "_model_module": "@jupyter-widgets/base",
            "_model_module_version": "1.2.0",
            "_model_name": "LayoutModel",
            "_view_count": null,
            "_view_module": "@jupyter-widgets/base",
            "_view_module_version": "1.2.0",
            "_view_name": "LayoutView",
            "align_content": null,
            "align_items": null,
            "align_self": null,
            "border": null,
            "bottom": null,
            "display": null,
            "flex": null,
            "flex_flow": null,
            "grid_area": null,
            "grid_auto_columns": null,
            "grid_auto_flow": null,
            "grid_auto_rows": null,
            "grid_column": null,
            "grid_gap": null,
            "grid_row": null,
            "grid_template_areas": null,
            "grid_template_columns": null,
            "grid_template_rows": null,
            "height": null,
            "justify_content": null,
            "justify_items": null,
            "left": null,
            "margin": null,
            "max_height": null,
            "max_width": null,
            "min_height": null,
            "min_width": null,
            "object_fit": null,
            "object_position": null,
            "order": null,
            "overflow": null,
            "overflow_x": null,
            "overflow_y": null,
            "padding": null,
            "right": null,
            "top": null,
            "visibility": null,
            "width": null
          }
        },
        "e6614fb213434de6ab9f01332a0c16e4": {
          "model_module": "@jupyter-widgets/base",
          "model_name": "LayoutModel",
          "model_module_version": "1.2.0",
          "state": {
            "_model_module": "@jupyter-widgets/base",
            "_model_module_version": "1.2.0",
            "_model_name": "LayoutModel",
            "_view_count": null,
            "_view_module": "@jupyter-widgets/base",
            "_view_module_version": "1.2.0",
            "_view_name": "LayoutView",
            "align_content": null,
            "align_items": null,
            "align_self": null,
            "border": null,
            "bottom": null,
            "display": null,
            "flex": null,
            "flex_flow": null,
            "grid_area": null,
            "grid_auto_columns": null,
            "grid_auto_flow": null,
            "grid_auto_rows": null,
            "grid_column": null,
            "grid_gap": null,
            "grid_row": null,
            "grid_template_areas": null,
            "grid_template_columns": null,
            "grid_template_rows": null,
            "height": null,
            "justify_content": null,
            "justify_items": null,
            "left": null,
            "margin": null,
            "max_height": null,
            "max_width": null,
            "min_height": null,
            "min_width": null,
            "object_fit": null,
            "object_position": null,
            "order": null,
            "overflow": null,
            "overflow_x": null,
            "overflow_y": null,
            "padding": null,
            "right": null,
            "top": null,
            "visibility": null,
            "width": null
          }
        },
        "f92f83fcfed1435db7e3397fac18ca09": {
          "model_module": "@jupyter-widgets/controls",
          "model_name": "DescriptionStyleModel",
          "model_module_version": "1.5.0",
          "state": {
            "_model_module": "@jupyter-widgets/controls",
            "_model_module_version": "1.5.0",
            "_model_name": "DescriptionStyleModel",
            "_view_count": null,
            "_view_module": "@jupyter-widgets/base",
            "_view_module_version": "1.2.0",
            "_view_name": "StyleView",
            "description_width": ""
          }
        },
        "c2087cbb8d134aeea35e55f6aeff800f": {
          "model_module": "@jupyter-widgets/base",
          "model_name": "LayoutModel",
          "model_module_version": "1.2.0",
          "state": {
            "_model_module": "@jupyter-widgets/base",
            "_model_module_version": "1.2.0",
            "_model_name": "LayoutModel",
            "_view_count": null,
            "_view_module": "@jupyter-widgets/base",
            "_view_module_version": "1.2.0",
            "_view_name": "LayoutView",
            "align_content": null,
            "align_items": null,
            "align_self": null,
            "border": null,
            "bottom": null,
            "display": null,
            "flex": null,
            "flex_flow": null,
            "grid_area": null,
            "grid_auto_columns": null,
            "grid_auto_flow": null,
            "grid_auto_rows": null,
            "grid_column": null,
            "grid_gap": null,
            "grid_row": null,
            "grid_template_areas": null,
            "grid_template_columns": null,
            "grid_template_rows": null,
            "height": null,
            "justify_content": null,
            "justify_items": null,
            "left": null,
            "margin": null,
            "max_height": null,
            "max_width": null,
            "min_height": null,
            "min_width": null,
            "object_fit": null,
            "object_position": null,
            "order": null,
            "overflow": null,
            "overflow_x": null,
            "overflow_y": null,
            "padding": null,
            "right": null,
            "top": null,
            "visibility": null,
            "width": null
          }
        },
        "693f449edee84829aeed64277168a61c": {
          "model_module": "@jupyter-widgets/controls",
          "model_name": "ProgressStyleModel",
          "model_module_version": "1.5.0",
          "state": {
            "_model_module": "@jupyter-widgets/controls",
            "_model_module_version": "1.5.0",
            "_model_name": "ProgressStyleModel",
            "_view_count": null,
            "_view_module": "@jupyter-widgets/base",
            "_view_module_version": "1.2.0",
            "_view_name": "StyleView",
            "bar_color": null,
            "description_width": ""
          }
        },
        "77ff07518a3344cb832a49b9f8c3a723": {
          "model_module": "@jupyter-widgets/base",
          "model_name": "LayoutModel",
          "model_module_version": "1.2.0",
          "state": {
            "_model_module": "@jupyter-widgets/base",
            "_model_module_version": "1.2.0",
            "_model_name": "LayoutModel",
            "_view_count": null,
            "_view_module": "@jupyter-widgets/base",
            "_view_module_version": "1.2.0",
            "_view_name": "LayoutView",
            "align_content": null,
            "align_items": null,
            "align_self": null,
            "border": null,
            "bottom": null,
            "display": null,
            "flex": null,
            "flex_flow": null,
            "grid_area": null,
            "grid_auto_columns": null,
            "grid_auto_flow": null,
            "grid_auto_rows": null,
            "grid_column": null,
            "grid_gap": null,
            "grid_row": null,
            "grid_template_areas": null,
            "grid_template_columns": null,
            "grid_template_rows": null,
            "height": null,
            "justify_content": null,
            "justify_items": null,
            "left": null,
            "margin": null,
            "max_height": null,
            "max_width": null,
            "min_height": null,
            "min_width": null,
            "object_fit": null,
            "object_position": null,
            "order": null,
            "overflow": null,
            "overflow_x": null,
            "overflow_y": null,
            "padding": null,
            "right": null,
            "top": null,
            "visibility": null,
            "width": null
          }
        },
        "91b0cd85c47043d19ca1237db731ca2e": {
          "model_module": "@jupyter-widgets/controls",
          "model_name": "DescriptionStyleModel",
          "model_module_version": "1.5.0",
          "state": {
            "_model_module": "@jupyter-widgets/controls",
            "_model_module_version": "1.5.0",
            "_model_name": "DescriptionStyleModel",
            "_view_count": null,
            "_view_module": "@jupyter-widgets/base",
            "_view_module_version": "1.2.0",
            "_view_name": "StyleView",
            "description_width": ""
          }
        },
        "e70839fea0fa459aa0ca11c455fafe43": {
          "model_module": "@jupyter-widgets/controls",
          "model_name": "HBoxModel",
          "model_module_version": "1.5.0",
          "state": {
            "_dom_classes": [],
            "_model_module": "@jupyter-widgets/controls",
            "_model_module_version": "1.5.0",
            "_model_name": "HBoxModel",
            "_view_count": null,
            "_view_module": "@jupyter-widgets/controls",
            "_view_module_version": "1.5.0",
            "_view_name": "HBoxView",
            "box_style": "",
            "children": [
              "IPY_MODEL_74c5dc34c1bf4cddae8738ef17772e57",
              "IPY_MODEL_0e87d81c7c6a4b95bcbc80383912caea",
              "IPY_MODEL_f81181eec0f24039a6a68bcd1ccc0652"
            ],
            "layout": "IPY_MODEL_418518eec70440849c571c8032acd2ef"
          }
        },
        "74c5dc34c1bf4cddae8738ef17772e57": {
          "model_module": "@jupyter-widgets/controls",
          "model_name": "HTMLModel",
          "model_module_version": "1.5.0",
          "state": {
            "_dom_classes": [],
            "_model_module": "@jupyter-widgets/controls",
            "_model_module_version": "1.5.0",
            "_model_name": "HTMLModel",
            "_view_count": null,
            "_view_module": "@jupyter-widgets/controls",
            "_view_module_version": "1.5.0",
            "_view_name": "HTMLView",
            "description": "",
            "description_tooltip": null,
            "layout": "IPY_MODEL_3abdd259470042a8b4ff8288bb6127fd",
            "placeholder": "​",
            "style": "IPY_MODEL_612a35fcf1ab4aadade7a871858d92e8",
            "value": "Map: 100%"
          }
        },
        "0e87d81c7c6a4b95bcbc80383912caea": {
          "model_module": "@jupyter-widgets/controls",
          "model_name": "FloatProgressModel",
          "model_module_version": "1.5.0",
          "state": {
            "_dom_classes": [],
            "_model_module": "@jupyter-widgets/controls",
            "_model_module_version": "1.5.0",
            "_model_name": "FloatProgressModel",
            "_view_count": null,
            "_view_module": "@jupyter-widgets/controls",
            "_view_module_version": "1.5.0",
            "_view_name": "ProgressView",
            "bar_style": "success",
            "description": "",
            "description_tooltip": null,
            "layout": "IPY_MODEL_0eb3ee44b65b42ac9b80e23c6b84febe",
            "max": 1740,
            "min": 0,
            "orientation": "horizontal",
            "style": "IPY_MODEL_63824ed5ead945da839d2e04ee399b93",
            "value": 1740
          }
        },
        "f81181eec0f24039a6a68bcd1ccc0652": {
          "model_module": "@jupyter-widgets/controls",
          "model_name": "HTMLModel",
          "model_module_version": "1.5.0",
          "state": {
            "_dom_classes": [],
            "_model_module": "@jupyter-widgets/controls",
            "_model_module_version": "1.5.0",
            "_model_name": "HTMLModel",
            "_view_count": null,
            "_view_module": "@jupyter-widgets/controls",
            "_view_module_version": "1.5.0",
            "_view_name": "HTMLView",
            "description": "",
            "description_tooltip": null,
            "layout": "IPY_MODEL_0859ef9365b84145836fa6a094937998",
            "placeholder": "​",
            "style": "IPY_MODEL_2f12933ce12c4990946ba0f779d128ba",
            "value": " 1740/1740 [00:00&lt;00:00, 47995.74 examples/s]"
          }
        },
        "418518eec70440849c571c8032acd2ef": {
          "model_module": "@jupyter-widgets/base",
          "model_name": "LayoutModel",
          "model_module_version": "1.2.0",
          "state": {
            "_model_module": "@jupyter-widgets/base",
            "_model_module_version": "1.2.0",
            "_model_name": "LayoutModel",
            "_view_count": null,
            "_view_module": "@jupyter-widgets/base",
            "_view_module_version": "1.2.0",
            "_view_name": "LayoutView",
            "align_content": null,
            "align_items": null,
            "align_self": null,
            "border": null,
            "bottom": null,
            "display": null,
            "flex": null,
            "flex_flow": null,
            "grid_area": null,
            "grid_auto_columns": null,
            "grid_auto_flow": null,
            "grid_auto_rows": null,
            "grid_column": null,
            "grid_gap": null,
            "grid_row": null,
            "grid_template_areas": null,
            "grid_template_columns": null,
            "grid_template_rows": null,
            "height": null,
            "justify_content": null,
            "justify_items": null,
            "left": null,
            "margin": null,
            "max_height": null,
            "max_width": null,
            "min_height": null,
            "min_width": null,
            "object_fit": null,
            "object_position": null,
            "order": null,
            "overflow": null,
            "overflow_x": null,
            "overflow_y": null,
            "padding": null,
            "right": null,
            "top": null,
            "visibility": null,
            "width": null
          }
        },
        "3abdd259470042a8b4ff8288bb6127fd": {
          "model_module": "@jupyter-widgets/base",
          "model_name": "LayoutModel",
          "model_module_version": "1.2.0",
          "state": {
            "_model_module": "@jupyter-widgets/base",
            "_model_module_version": "1.2.0",
            "_model_name": "LayoutModel",
            "_view_count": null,
            "_view_module": "@jupyter-widgets/base",
            "_view_module_version": "1.2.0",
            "_view_name": "LayoutView",
            "align_content": null,
            "align_items": null,
            "align_self": null,
            "border": null,
            "bottom": null,
            "display": null,
            "flex": null,
            "flex_flow": null,
            "grid_area": null,
            "grid_auto_columns": null,
            "grid_auto_flow": null,
            "grid_auto_rows": null,
            "grid_column": null,
            "grid_gap": null,
            "grid_row": null,
            "grid_template_areas": null,
            "grid_template_columns": null,
            "grid_template_rows": null,
            "height": null,
            "justify_content": null,
            "justify_items": null,
            "left": null,
            "margin": null,
            "max_height": null,
            "max_width": null,
            "min_height": null,
            "min_width": null,
            "object_fit": null,
            "object_position": null,
            "order": null,
            "overflow": null,
            "overflow_x": null,
            "overflow_y": null,
            "padding": null,
            "right": null,
            "top": null,
            "visibility": null,
            "width": null
          }
        },
        "612a35fcf1ab4aadade7a871858d92e8": {
          "model_module": "@jupyter-widgets/controls",
          "model_name": "DescriptionStyleModel",
          "model_module_version": "1.5.0",
          "state": {
            "_model_module": "@jupyter-widgets/controls",
            "_model_module_version": "1.5.0",
            "_model_name": "DescriptionStyleModel",
            "_view_count": null,
            "_view_module": "@jupyter-widgets/base",
            "_view_module_version": "1.2.0",
            "_view_name": "StyleView",
            "description_width": ""
          }
        },
        "0eb3ee44b65b42ac9b80e23c6b84febe": {
          "model_module": "@jupyter-widgets/base",
          "model_name": "LayoutModel",
          "model_module_version": "1.2.0",
          "state": {
            "_model_module": "@jupyter-widgets/base",
            "_model_module_version": "1.2.0",
            "_model_name": "LayoutModel",
            "_view_count": null,
            "_view_module": "@jupyter-widgets/base",
            "_view_module_version": "1.2.0",
            "_view_name": "LayoutView",
            "align_content": null,
            "align_items": null,
            "align_self": null,
            "border": null,
            "bottom": null,
            "display": null,
            "flex": null,
            "flex_flow": null,
            "grid_area": null,
            "grid_auto_columns": null,
            "grid_auto_flow": null,
            "grid_auto_rows": null,
            "grid_column": null,
            "grid_gap": null,
            "grid_row": null,
            "grid_template_areas": null,
            "grid_template_columns": null,
            "grid_template_rows": null,
            "height": null,
            "justify_content": null,
            "justify_items": null,
            "left": null,
            "margin": null,
            "max_height": null,
            "max_width": null,
            "min_height": null,
            "min_width": null,
            "object_fit": null,
            "object_position": null,
            "order": null,
            "overflow": null,
            "overflow_x": null,
            "overflow_y": null,
            "padding": null,
            "right": null,
            "top": null,
            "visibility": null,
            "width": null
          }
        },
        "63824ed5ead945da839d2e04ee399b93": {
          "model_module": "@jupyter-widgets/controls",
          "model_name": "ProgressStyleModel",
          "model_module_version": "1.5.0",
          "state": {
            "_model_module": "@jupyter-widgets/controls",
            "_model_module_version": "1.5.0",
            "_model_name": "ProgressStyleModel",
            "_view_count": null,
            "_view_module": "@jupyter-widgets/base",
            "_view_module_version": "1.2.0",
            "_view_name": "StyleView",
            "bar_color": null,
            "description_width": ""
          }
        },
        "0859ef9365b84145836fa6a094937998": {
          "model_module": "@jupyter-widgets/base",
          "model_name": "LayoutModel",
          "model_module_version": "1.2.0",
          "state": {
            "_model_module": "@jupyter-widgets/base",
            "_model_module_version": "1.2.0",
            "_model_name": "LayoutModel",
            "_view_count": null,
            "_view_module": "@jupyter-widgets/base",
            "_view_module_version": "1.2.0",
            "_view_name": "LayoutView",
            "align_content": null,
            "align_items": null,
            "align_self": null,
            "border": null,
            "bottom": null,
            "display": null,
            "flex": null,
            "flex_flow": null,
            "grid_area": null,
            "grid_auto_columns": null,
            "grid_auto_flow": null,
            "grid_auto_rows": null,
            "grid_column": null,
            "grid_gap": null,
            "grid_row": null,
            "grid_template_areas": null,
            "grid_template_columns": null,
            "grid_template_rows": null,
            "height": null,
            "justify_content": null,
            "justify_items": null,
            "left": null,
            "margin": null,
            "max_height": null,
            "max_width": null,
            "min_height": null,
            "min_width": null,
            "object_fit": null,
            "object_position": null,
            "order": null,
            "overflow": null,
            "overflow_x": null,
            "overflow_y": null,
            "padding": null,
            "right": null,
            "top": null,
            "visibility": null,
            "width": null
          }
        },
        "2f12933ce12c4990946ba0f779d128ba": {
          "model_module": "@jupyter-widgets/controls",
          "model_name": "DescriptionStyleModel",
          "model_module_version": "1.5.0",
          "state": {
            "_model_module": "@jupyter-widgets/controls",
            "_model_module_version": "1.5.0",
            "_model_name": "DescriptionStyleModel",
            "_view_count": null,
            "_view_module": "@jupyter-widgets/base",
            "_view_module_version": "1.2.0",
            "_view_name": "StyleView",
            "description_width": ""
          }
        },
        "49fa057c2f324b7fa7e3f2a0d57b5af2": {
          "model_module": "@jupyter-widgets/controls",
          "model_name": "HBoxModel",
          "model_module_version": "1.5.0",
          "state": {
            "_dom_classes": [],
            "_model_module": "@jupyter-widgets/controls",
            "_model_module_version": "1.5.0",
            "_model_name": "HBoxModel",
            "_view_count": null,
            "_view_module": "@jupyter-widgets/controls",
            "_view_module_version": "1.5.0",
            "_view_name": "HBoxView",
            "box_style": "",
            "children": [
              "IPY_MODEL_c5157394f30b4156803a1e8b00ada89c",
              "IPY_MODEL_56c5688433444bc0b1a5c11fd1807578",
              "IPY_MODEL_dce23c84885442699941c576faa52b06"
            ],
            "layout": "IPY_MODEL_afe0afe834b0482c8c91a04aa691edef"
          }
        },
        "c5157394f30b4156803a1e8b00ada89c": {
          "model_module": "@jupyter-widgets/controls",
          "model_name": "HTMLModel",
          "model_module_version": "1.5.0",
          "state": {
            "_dom_classes": [],
            "_model_module": "@jupyter-widgets/controls",
            "_model_module_version": "1.5.0",
            "_model_name": "HTMLModel",
            "_view_count": null,
            "_view_module": "@jupyter-widgets/controls",
            "_view_module_version": "1.5.0",
            "_view_name": "HTMLView",
            "description": "",
            "description_tooltip": null,
            "layout": "IPY_MODEL_a1c382d9c82a4bffbee1bf5719eb7537",
            "placeholder": "​",
            "style": "IPY_MODEL_a2491514def64adca8dbfeca49d9e17d",
            "value": "Generating train split: "
          }
        },
        "56c5688433444bc0b1a5c11fd1807578": {
          "model_module": "@jupyter-widgets/controls",
          "model_name": "FloatProgressModel",
          "model_module_version": "1.5.0",
          "state": {
            "_dom_classes": [],
            "_model_module": "@jupyter-widgets/controls",
            "_model_module_version": "1.5.0",
            "_model_name": "FloatProgressModel",
            "_view_count": null,
            "_view_module": "@jupyter-widgets/controls",
            "_view_module_version": "1.5.0",
            "_view_name": "ProgressView",
            "bar_style": "success",
            "description": "",
            "description_tooltip": null,
            "layout": "IPY_MODEL_df11bf34f71147029f8552a15bd92441",
            "max": 1,
            "min": 0,
            "orientation": "horizontal",
            "style": "IPY_MODEL_d2435beafc2c4841baf8d982549284fe",
            "value": 1
          }
        },
        "dce23c84885442699941c576faa52b06": {
          "model_module": "@jupyter-widgets/controls",
          "model_name": "HTMLModel",
          "model_module_version": "1.5.0",
          "state": {
            "_dom_classes": [],
            "_model_module": "@jupyter-widgets/controls",
            "_model_module_version": "1.5.0",
            "_model_name": "HTMLModel",
            "_view_count": null,
            "_view_module": "@jupyter-widgets/controls",
            "_view_module_version": "1.5.0",
            "_view_name": "HTMLView",
            "description": "",
            "description_tooltip": null,
            "layout": "IPY_MODEL_98d72731695044239e3eeab784d9daf1",
            "placeholder": "​",
            "style": "IPY_MODEL_57b9a2d9b20944d7b09ff471519bc70f",
            "value": " 162/0 [00:00&lt;00:00,  3.33 examples/s]"
          }
        },
        "afe0afe834b0482c8c91a04aa691edef": {
          "model_module": "@jupyter-widgets/base",
          "model_name": "LayoutModel",
          "model_module_version": "1.2.0",
          "state": {
            "_model_module": "@jupyter-widgets/base",
            "_model_module_version": "1.2.0",
            "_model_name": "LayoutModel",
            "_view_count": null,
            "_view_module": "@jupyter-widgets/base",
            "_view_module_version": "1.2.0",
            "_view_name": "LayoutView",
            "align_content": null,
            "align_items": null,
            "align_self": null,
            "border": null,
            "bottom": null,
            "display": null,
            "flex": null,
            "flex_flow": null,
            "grid_area": null,
            "grid_auto_columns": null,
            "grid_auto_flow": null,
            "grid_auto_rows": null,
            "grid_column": null,
            "grid_gap": null,
            "grid_row": null,
            "grid_template_areas": null,
            "grid_template_columns": null,
            "grid_template_rows": null,
            "height": null,
            "justify_content": null,
            "justify_items": null,
            "left": null,
            "margin": null,
            "max_height": null,
            "max_width": null,
            "min_height": null,
            "min_width": null,
            "object_fit": null,
            "object_position": null,
            "order": null,
            "overflow": null,
            "overflow_x": null,
            "overflow_y": null,
            "padding": null,
            "right": null,
            "top": null,
            "visibility": null,
            "width": null
          }
        },
        "a1c382d9c82a4bffbee1bf5719eb7537": {
          "model_module": "@jupyter-widgets/base",
          "model_name": "LayoutModel",
          "model_module_version": "1.2.0",
          "state": {
            "_model_module": "@jupyter-widgets/base",
            "_model_module_version": "1.2.0",
            "_model_name": "LayoutModel",
            "_view_count": null,
            "_view_module": "@jupyter-widgets/base",
            "_view_module_version": "1.2.0",
            "_view_name": "LayoutView",
            "align_content": null,
            "align_items": null,
            "align_self": null,
            "border": null,
            "bottom": null,
            "display": null,
            "flex": null,
            "flex_flow": null,
            "grid_area": null,
            "grid_auto_columns": null,
            "grid_auto_flow": null,
            "grid_auto_rows": null,
            "grid_column": null,
            "grid_gap": null,
            "grid_row": null,
            "grid_template_areas": null,
            "grid_template_columns": null,
            "grid_template_rows": null,
            "height": null,
            "justify_content": null,
            "justify_items": null,
            "left": null,
            "margin": null,
            "max_height": null,
            "max_width": null,
            "min_height": null,
            "min_width": null,
            "object_fit": null,
            "object_position": null,
            "order": null,
            "overflow": null,
            "overflow_x": null,
            "overflow_y": null,
            "padding": null,
            "right": null,
            "top": null,
            "visibility": null,
            "width": null
          }
        },
        "a2491514def64adca8dbfeca49d9e17d": {
          "model_module": "@jupyter-widgets/controls",
          "model_name": "DescriptionStyleModel",
          "model_module_version": "1.5.0",
          "state": {
            "_model_module": "@jupyter-widgets/controls",
            "_model_module_version": "1.5.0",
            "_model_name": "DescriptionStyleModel",
            "_view_count": null,
            "_view_module": "@jupyter-widgets/base",
            "_view_module_version": "1.2.0",
            "_view_name": "StyleView",
            "description_width": ""
          }
        },
        "df11bf34f71147029f8552a15bd92441": {
          "model_module": "@jupyter-widgets/base",
          "model_name": "LayoutModel",
          "model_module_version": "1.2.0",
          "state": {
            "_model_module": "@jupyter-widgets/base",
            "_model_module_version": "1.2.0",
            "_model_name": "LayoutModel",
            "_view_count": null,
            "_view_module": "@jupyter-widgets/base",
            "_view_module_version": "1.2.0",
            "_view_name": "LayoutView",
            "align_content": null,
            "align_items": null,
            "align_self": null,
            "border": null,
            "bottom": null,
            "display": null,
            "flex": null,
            "flex_flow": null,
            "grid_area": null,
            "grid_auto_columns": null,
            "grid_auto_flow": null,
            "grid_auto_rows": null,
            "grid_column": null,
            "grid_gap": null,
            "grid_row": null,
            "grid_template_areas": null,
            "grid_template_columns": null,
            "grid_template_rows": null,
            "height": null,
            "justify_content": null,
            "justify_items": null,
            "left": null,
            "margin": null,
            "max_height": null,
            "max_width": null,
            "min_height": null,
            "min_width": null,
            "object_fit": null,
            "object_position": null,
            "order": null,
            "overflow": null,
            "overflow_x": null,
            "overflow_y": null,
            "padding": null,
            "right": null,
            "top": null,
            "visibility": null,
            "width": "20px"
          }
        },
        "d2435beafc2c4841baf8d982549284fe": {
          "model_module": "@jupyter-widgets/controls",
          "model_name": "ProgressStyleModel",
          "model_module_version": "1.5.0",
          "state": {
            "_model_module": "@jupyter-widgets/controls",
            "_model_module_version": "1.5.0",
            "_model_name": "ProgressStyleModel",
            "_view_count": null,
            "_view_module": "@jupyter-widgets/base",
            "_view_module_version": "1.2.0",
            "_view_name": "StyleView",
            "bar_color": null,
            "description_width": ""
          }
        },
        "98d72731695044239e3eeab784d9daf1": {
          "model_module": "@jupyter-widgets/base",
          "model_name": "LayoutModel",
          "model_module_version": "1.2.0",
          "state": {
            "_model_module": "@jupyter-widgets/base",
            "_model_module_version": "1.2.0",
            "_model_name": "LayoutModel",
            "_view_count": null,
            "_view_module": "@jupyter-widgets/base",
            "_view_module_version": "1.2.0",
            "_view_name": "LayoutView",
            "align_content": null,
            "align_items": null,
            "align_self": null,
            "border": null,
            "bottom": null,
            "display": null,
            "flex": null,
            "flex_flow": null,
            "grid_area": null,
            "grid_auto_columns": null,
            "grid_auto_flow": null,
            "grid_auto_rows": null,
            "grid_column": null,
            "grid_gap": null,
            "grid_row": null,
            "grid_template_areas": null,
            "grid_template_columns": null,
            "grid_template_rows": null,
            "height": null,
            "justify_content": null,
            "justify_items": null,
            "left": null,
            "margin": null,
            "max_height": null,
            "max_width": null,
            "min_height": null,
            "min_width": null,
            "object_fit": null,
            "object_position": null,
            "order": null,
            "overflow": null,
            "overflow_x": null,
            "overflow_y": null,
            "padding": null,
            "right": null,
            "top": null,
            "visibility": null,
            "width": null
          }
        },
        "57b9a2d9b20944d7b09ff471519bc70f": {
          "model_module": "@jupyter-widgets/controls",
          "model_name": "DescriptionStyleModel",
          "model_module_version": "1.5.0",
          "state": {
            "_model_module": "@jupyter-widgets/controls",
            "_model_module_version": "1.5.0",
            "_model_name": "DescriptionStyleModel",
            "_view_count": null,
            "_view_module": "@jupyter-widgets/base",
            "_view_module_version": "1.2.0",
            "_view_name": "StyleView",
            "description_width": ""
          }
        }
      }
    }
  },
  "nbformat": 4,
  "nbformat_minor": 5
}